{
  "nbformat": 4,
  "nbformat_minor": 0,
  "metadata": {
    "colab": {
      "provenance": [],
      "authorship_tag": "ABX9TyOCag4zmj6LUMkSbFtlmChi",
      "include_colab_link": true
    },
    "kernelspec": {
      "name": "python3",
      "display_name": "Python 3"
    },
    "language_info": {
      "name": "python"
    }
  },
  "cells": [
    {
      "cell_type": "markdown",
      "metadata": {
        "id": "view-in-github",
        "colab_type": "text"
      },
      "source": [
        "<a href=\"https://colab.research.google.com/github/Jubicod/wsf/blob/main/tutorial1/install.ipynb\" target=\"_parent\"><img src=\"https://colab.research.google.com/assets/colab-badge.svg\" alt=\"Open In Colab\"/></a>"
      ]
    },
    {
      "cell_type": "code",
      "execution_count": null,
      "metadata": {
        "id": "eBUpE9ai4pyQ"
      },
      "outputs": [],
      "source": [
        "!apt install gcc-arm-none-eabi"
      ]
    },
    {
      "cell_type": "code",
      "source": [
        "!pip install unicorn\n",
        "!pip install lief"
      ],
      "metadata": {
        "id": "a2lw5dxJ45mx"
      },
      "execution_count": null,
      "outputs": []
    },
    {
      "cell_type": "code",
      "source": [
        "from wsf.tutorial1.app.app import *"
      ],
      "metadata": {
        "id": "Mus3mlr55COw"
      },
      "execution_count": null,
      "outputs": []
    },
    {
      "cell_type": "code",
      "source": [
        "!make -C wsf/tutorial1/app"
      ],
      "metadata": {
        "id": "WYhfuh_N6HFh"
      },
      "execution_count": null,
      "outputs": []
    }
  ]
}