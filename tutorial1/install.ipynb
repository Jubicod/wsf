{
  "cells": [
    {
      "cell_type": "markdown",
      "metadata": {
        "colab_type": "text",
        "id": "view-in-github"
      },
      "source": [
        "<a href=\"https://colab.research.google.com/github/Jubicod/wsf/blob/main/tutorial1/install.ipynb\" target=\"_parent\"><img src=\"https://colab.research.google.com/assets/colab-badge.svg\" alt=\"Open In Colab\"/></a>"
      ]
    },
    {
      "cell_type": "code",
      "execution_count": null,
      "metadata": {
        "id": "eBUpE9ai4pyQ"
      },
      "outputs": [],
      "source": [
        "!apt install gcc-arm-none-eabi"
      ]
    },
    {
      "cell_type": "code",
      "execution_count": null,
      "metadata": {
        "id": "a2lw5dxJ45mx"
      },
      "outputs": [],
      "source": [
        "!pip install unicorn\n",
        "!pip install lief==0.14.1"
      ]
    },
    {
      "cell_type": "code",
      "execution_count": null,
      "metadata": {
        "id": "Mus3mlr55COw"
      },
      "outputs": [],
      "source": [
        "from wsf.tutorial1.app.app import *"
      ]
    },
    {
      "cell_type": "code",
      "execution_count": null,
      "metadata": {
        "id": "WYhfuh_N6HFh"
      },
      "outputs": [],
      "source": [
        "!make -C wsf/tutorial1/app"
      ]
    }
  ],
  "metadata": {
    "colab": {
      "authorship_tag": "ABX9TyOCag4zmj6LUMkSbFtlmChi",
      "include_colab_link": true,
      "provenance": []
    },
    "kernelspec": {
      "display_name": "Python 3",
      "name": "python3"
    },
    "language_info": {
      "name": "python"
    }
  },
  "nbformat": 4,
  "nbformat_minor": 0
}
