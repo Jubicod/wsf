{
  "nbformat": 4,
  "nbformat_minor": 0,
  "metadata": {
    "colab": {
      "provenance": [],
      "authorship_tag": "ABX9TyO5u2QV/cvUeooDQXi48PfY",
      "include_colab_link": true
    },
    "kernelspec": {
      "name": "python3",
      "display_name": "Python 3"
    },
    "language_info": {
      "name": "python"
    }
  },
  "cells": [
    {
      "cell_type": "markdown",
      "metadata": {
        "id": "view-in-github",
        "colab_type": "text"
      },
      "source": [
        "<a href=\"https://colab.research.google.com/github/Jubicod/wsf/blob/main/tutorial1/play.ipynb\" target=\"_parent\"><img src=\"https://colab.research.google.com/assets/colab-badge.svg\" alt=\"Open In Colab\"/></a>"
      ]
    },
    {
      "cell_type": "code",
      "execution_count": null,
      "metadata": {
        "id": "V6L60o7K7dOk"
      },
      "outputs": [],
      "source": [
        "!git clone https://github.com/Jubicod/wsf.git"
      ]
    },
    {
      "cell_type": "code",
      "source": [
        "%run wsf/tutorial1/install.ipynb"
      ],
      "metadata": {
        "id": "H8Zbt5Cg7fXF"
      },
      "execution_count": null,
      "outputs": []
    },
    {
      "cell_type": "code",
      "source": [
        "# basic stuff (status & help)\n",
        "app = App() # power-on the STM32 and boot application\n",
        "app.reset() # reset CPU (slots are not reset)\n",
        "app.send('h') # display help on all commands\n",
        "app.send('s') # get status\n",
        "# 'S' commands display the state of the device (locked or unlocked), and the slots access rights\n",
        "# for each access possible rights are readable ('R'), writable ('W'), incrementable ('I'). 'L' is to indicate slot is accessible even when device is locked"
      ],
      "metadata": {
        "colab": {
          "base_uri": "https://localhost:8080/"
        },
        "id": "gw8skkfH7olp",
        "outputId": "c66b1f6e-30cf-4452-c636-75facffc56fe"
      },
      "execution_count": 4,
      "outputs": [
        {
          "output_type": "stream",
          "name": "stdout",
          "text": [
            "ready...\n",
            "h\n",
            "Rx: read value at slot x. ex R2\n",
            "Wxvvv: write value vvv at slot x. ex W137 writes 37 into slot 1\n",
            "Ix: increment value in slot x\n",
            "Uyyyyyyyy: unlock slots. yyyyy is the password. ex U1234\n",
            "S: get status on slots\n",
            "error\n",
            "s\n",
            "device locked\n",
            "0  RW-L\n",
            "1  RW-L\n",
            "2  RW-L\n",
            "3  R--L\n",
            "4  R-IL\n",
            "5  RW--\n",
            "6  R---\n",
            "7  ----\n",
            "ok\n"
          ]
        },
        {
          "output_type": "execute_result",
          "data": {
            "text/plain": [
              "241"
            ]
          },
          "metadata": {},
          "execution_count": 4
        }
      ]
    },
    {
      "cell_type": "code",
      "source": [
        "# basic stuff (slots)\n",
        "app.send('w0123') # write 123 (decimal) in slot 0\n",
        "app.send('r0') # read back slot 0 (decimal)\n",
        "app.send('r4') # read slot 4\n",
        "app.send('i4') # increment slot 4\n",
        "app.send('r4') # read slot 4\n",
        "# or use more convenient functions to do the same\n",
        "app.send_read_slot(4)\n",
        "app.send_write_slot(2,44)\n",
        "app.send_increment_slot(4)\n",
        "# use command 'Uxxxx' to try to unlock the device\n",
        "# also, send() returns time taken to complete the command\n",
        "time = app.send('u5555')\n",
        "print('time spent in Unlock command is', time)"
      ],
      "metadata": {
        "colab": {
          "base_uri": "https://localhost:8080/"
        },
        "id": "OuPZ-J2O8BEk",
        "outputId": "8f3b8f5f-6389-4e4e-a374-cfcd83ac04d4"
      },
      "execution_count": 6,
      "outputs": [
        {
          "output_type": "stream",
          "name": "stdout",
          "text": [
            "w0123\n",
            "ok\n",
            "r0\n",
            "123\n",
            "ok\n",
            "r4\n",
            "122\n",
            "ok\n",
            "i4\n",
            "ok\n",
            "r4\n",
            "123\n",
            "ok\n",
            "r4\n",
            "123\n",
            "ok\n",
            "w244\n",
            "ok\n",
            "i4\n",
            "ok\n",
            "u5555\n",
            "error\n",
            "time spent in Unlock command is 148\n"
          ]
        }
      ]
    },
    {
      "cell_type": "code",
      "source": [
        "# free play\n",
        "# try to find vulnerabilities in code"
      ],
      "metadata": {
        "id": "VbsuEWHC-T9q"
      },
      "execution_count": null,
      "outputs": []
    }
  ]
}