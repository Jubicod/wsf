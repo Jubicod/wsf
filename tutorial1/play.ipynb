{
  "nbformat": 4,
  "nbformat_minor": 0,
  "metadata": {
    "colab": {
      "provenance": [],
      "authorship_tag": "ABX9TyP2D42XMWx4Jooa+H23w1R8",
      "include_colab_link": true
    },
    "kernelspec": {
      "name": "python3",
      "display_name": "Python 3"
    },
    "language_info": {
      "name": "python"
    }
  },
  "cells": [
    {
      "cell_type": "markdown",
      "metadata": {
        "id": "view-in-github",
        "colab_type": "text"
      },
      "source": [
        "<a href=\"https://colab.research.google.com/github/Jubicod/wsf/blob/main/tutorial1/play.ipynb\" target=\"_parent\"><img src=\"https://colab.research.google.com/assets/colab-badge.svg\" alt=\"Open In Colab\"/></a>"
      ]
    },
    {
      "cell_type": "code",
      "execution_count": 1,
      "metadata": {
        "colab": {
          "base_uri": "https://localhost:8080/"
        },
        "id": "V6L60o7K7dOk",
        "outputId": "b4527a81-0142-4db7-80ff-35e87459f2ee"
      },
      "outputs": [
        {
          "output_type": "stream",
          "name": "stdout",
          "text": [
            "Cloning into 'wsf'...\n",
            "remote: Enumerating objects: 181, done.\u001b[K\n",
            "remote: Counting objects: 100% (181/181), done.\u001b[K\n",
            "remote: Compressing objects: 100% (116/116), done.\u001b[K\n",
            "remote: Total 181 (delta 70), reused 162 (delta 60), pack-reused 0\u001b[K\n",
            "Receiving objects: 100% (181/181), 159.18 KiB | 4.55 MiB/s, done.\n",
            "Resolving deltas: 100% (70/70), done.\n"
          ]
        }
      ],
      "source": [
        "!git clone https://github.com/Jubicod/wsf.git"
      ]
    },
    {
      "cell_type": "code",
      "source": [
        "%run wsf/tutorial1/install.ipynb"
      ],
      "metadata": {
        "colab": {
          "base_uri": "https://localhost:8080/"
        },
        "id": "H8Zbt5Cg7fXF",
        "outputId": "a12b5557-02ba-4e7f-a8be-873ca7b10226"
      },
      "execution_count": 3,
      "outputs": [
        {
          "output_type": "stream",
          "name": "stdout",
          "text": [
            "Reading package lists... Done\n",
            "Building dependency tree... Done\n",
            "Reading state information... Done\n",
            "The following additional packages will be installed:\n",
            "  binutils-arm-none-eabi libnewlib-arm-none-eabi libnewlib-dev libstdc++-arm-none-eabi-dev\n",
            "  libstdc++-arm-none-eabi-newlib\n",
            "Suggested packages:\n",
            "  libnewlib-doc\n",
            "The following NEW packages will be installed:\n",
            "  binutils-arm-none-eabi gcc-arm-none-eabi libnewlib-arm-none-eabi libnewlib-dev\n",
            "  libstdc++-arm-none-eabi-dev libstdc++-arm-none-eabi-newlib\n",
            "0 upgraded, 6 newly installed, 0 to remove and 45 not upgraded.\n",
            "Need to get 442 MB of archives.\n",
            "After this operation, 2,575 MB of additional disk space will be used.\n",
            "Get:1 http://archive.ubuntu.com/ubuntu jammy/universe amd64 binutils-arm-none-eabi amd64 2.38-3ubuntu1+15build1 [3,040 kB]\n",
            "Get:2 http://archive.ubuntu.com/ubuntu jammy/universe amd64 gcc-arm-none-eabi amd64 15:10.3-2021.07-4 [47.7 MB]\n",
            "Get:3 http://archive.ubuntu.com/ubuntu jammy/universe amd64 libstdc++-arm-none-eabi-dev all 15:10.3-2021.07-4+17 [1,049 kB]\n",
            "Get:4 http://archive.ubuntu.com/ubuntu jammy/universe amd64 libnewlib-dev all 3.3.0-1.3 [137 kB]\n",
            "Get:5 http://archive.ubuntu.com/ubuntu jammy/universe amd64 libnewlib-arm-none-eabi all 3.3.0-1.3 [43.2 MB]\n",
            "Get:6 http://archive.ubuntu.com/ubuntu jammy/universe amd64 libstdc++-arm-none-eabi-newlib all 15:10.3-2021.07-4+17 [347 MB]\n",
            "Fetched 442 MB in 6s (77.0 MB/s)\n",
            "Selecting previously unselected package binutils-arm-none-eabi.\n",
            "(Reading database ... 121752 files and directories currently installed.)\n",
            "Preparing to unpack .../0-binutils-arm-none-eabi_2.38-3ubuntu1+15build1_amd64.deb ...\n",
            "Unpacking binutils-arm-none-eabi (2.38-3ubuntu1+15build1) ...\n",
            "Selecting previously unselected package gcc-arm-none-eabi.\n",
            "Preparing to unpack .../1-gcc-arm-none-eabi_15%3a10.3-2021.07-4_amd64.deb ...\n",
            "Unpacking gcc-arm-none-eabi (15:10.3-2021.07-4) ...\n",
            "Selecting previously unselected package libstdc++-arm-none-eabi-dev.\n",
            "Preparing to unpack .../2-libstdc++-arm-none-eabi-dev_15%3a10.3-2021.07-4+17_all.deb ...\n",
            "Unpacking libstdc++-arm-none-eabi-dev (15:10.3-2021.07-4+17) ...\n",
            "Selecting previously unselected package libnewlib-dev.\n",
            "Preparing to unpack .../3-libnewlib-dev_3.3.0-1.3_all.deb ...\n",
            "Unpacking libnewlib-dev (3.3.0-1.3) ...\n",
            "Selecting previously unselected package libnewlib-arm-none-eabi.\n",
            "Preparing to unpack .../4-libnewlib-arm-none-eabi_3.3.0-1.3_all.deb ...\n",
            "Unpacking libnewlib-arm-none-eabi (3.3.0-1.3) ...\n",
            "Selecting previously unselected package libstdc++-arm-none-eabi-newlib.\n",
            "Preparing to unpack .../5-libstdc++-arm-none-eabi-newlib_15%3a10.3-2021.07-4+17_all.deb ...\n",
            "Unpacking libstdc++-arm-none-eabi-newlib (15:10.3-2021.07-4+17) ...\n",
            "Setting up binutils-arm-none-eabi (2.38-3ubuntu1+15build1) ...\n",
            "Setting up gcc-arm-none-eabi (15:10.3-2021.07-4) ...\n",
            "Setting up libnewlib-dev (3.3.0-1.3) ...\n",
            "Setting up libnewlib-arm-none-eabi (3.3.0-1.3) ...\n",
            "Setting up libstdc++-arm-none-eabi-dev (15:10.3-2021.07-4+17) ...\n",
            "Setting up libstdc++-arm-none-eabi-newlib (15:10.3-2021.07-4+17) ...\n",
            "Processing triggers for man-db (2.10.2-1) ...\n",
            "Processing triggers for libc-bin (2.35-0ubuntu3.4) ...\n",
            "/sbin/ldconfig.real: /usr/local/lib/libtbb.so.12 is not a symbolic link\n",
            "\n",
            "/sbin/ldconfig.real: /usr/local/lib/libtbbmalloc_proxy.so.2 is not a symbolic link\n",
            "\n",
            "/sbin/ldconfig.real: /usr/local/lib/libtbbbind_2_0.so.3 is not a symbolic link\n",
            "\n",
            "/sbin/ldconfig.real: /usr/local/lib/libtbbmalloc.so.2 is not a symbolic link\n",
            "\n",
            "/sbin/ldconfig.real: /usr/local/lib/libtbbbind_2_5.so.3 is not a symbolic link\n",
            "\n",
            "/sbin/ldconfig.real: /usr/local/lib/libtbbbind.so.3 is not a symbolic link\n",
            "\n",
            "Collecting unicorn\n",
            "  Downloading unicorn-2.0.1.post1-py2.py3-none-manylinux1_x86_64.manylinux_2_17_x86_64.manylinux2014_x86_64.whl (16.1 MB)\n",
            "\u001b[2K     \u001b[90m━━━━━━━━━━━━━━━━━━━━━━━━━━━━━━━━━━━━━━━━\u001b[0m \u001b[32m16.1/16.1 MB\u001b[0m \u001b[31m34.9 MB/s\u001b[0m eta \u001b[36m0:00:00\u001b[0m\n",
            "\u001b[?25hInstalling collected packages: unicorn\n",
            "Successfully installed unicorn-2.0.1.post1\n",
            "Collecting lief\n",
            "  Downloading lief-0.14.1-cp310-cp310-manylinux_2_28_x86_64.manylinux_2_27_x86_64.whl (2.7 MB)\n",
            "\u001b[2K     \u001b[90m━━━━━━━━━━━━━━━━━━━━━━━━━━━━━━━━━━━━━━━━\u001b[0m \u001b[32m2.7/2.7 MB\u001b[0m \u001b[31m8.0 MB/s\u001b[0m eta \u001b[36m0:00:00\u001b[0m\n",
            "\u001b[?25hInstalling collected packages: lief\n",
            "Successfully installed lief-0.14.1\n",
            "make: Entering directory '/content/wsf/tutorial1/app'\n",
            "arm-none-eabi-gcc -O1 -g -march=armv7-m startup_stm32f10x_ld.s main.c slots.c --specs=nosys.specs -T stm32_flash.ld -o app.elf\n",
            "arm-none-eabi-objdump -S app.elf > app.txt\n",
            "arm-none-eabi-objdump -x app.elf > app.map\n",
            "make: Leaving directory '/content/wsf/tutorial1/app'\n"
          ]
        }
      ]
    },
    {
      "cell_type": "code",
      "source": [
        "# basic stuff (status & help)\n",
        "app = App() # start the STM32 application\n",
        "app.reset()\n",
        "app.send('s') # get status. send() returns time taken to complete the command\n",
        "app.send('h') # display commands"
      ],
      "metadata": {
        "colab": {
          "base_uri": "https://localhost:8080/"
        },
        "id": "gw8skkfH7olp",
        "outputId": "0aaddac4-2fb4-4f98-9fdd-e0fcdea66c10"
      },
      "execution_count": 6,
      "outputs": [
        {
          "output_type": "stream",
          "name": "stdout",
          "text": [
            "ready...\n",
            "s\n",
            "device locked\n",
            "0  RW-L\n",
            "1  RW-L\n",
            "2  RW-L\n",
            "3  R--L\n",
            "4  R-IL\n",
            "5  RW--\n",
            "6  R---\n",
            "7  ----\n",
            "ok\n",
            "h\n",
            "Rx: read value at slot x. ex R2\n",
            "Wxvvv: write value vvv at slot x. ex W137 writes 37 into slot 1\n",
            "Ix: increment value in slot x\n",
            "Uyyyyyyyy: unlock slots. yyyyy is the password. ex U1234\n",
            "S: get status on slots\n",
            "error\n"
          ]
        },
        {
          "output_type": "execute_result",
          "data": {
            "text/plain": [
              "65"
            ]
          },
          "metadata": {},
          "execution_count": 6
        }
      ]
    },
    {
      "cell_type": "code",
      "source": [
        "# basic stuff (slots)\n",
        "app.send('w0123') # write 123 (decimal) in slot 0\n",
        "app.send('r0') # read back slot 0 (decimal)\n",
        "app.send('r4') # read slot 4\n",
        "app.send('i4') # increment slot 4\n",
        "app.send('r4') # read slot 4"
      ],
      "metadata": {
        "colab": {
          "base_uri": "https://localhost:8080/"
        },
        "id": "OuPZ-J2O8BEk",
        "outputId": "168405f3-323e-4de3-c65d-28aa5603c55d"
      },
      "execution_count": 9,
      "outputs": [
        {
          "output_type": "stream",
          "name": "stdout",
          "text": [
            "w0123\n",
            "ok\n",
            "r0\n",
            "123\n",
            "ok\n",
            "r4\n",
            "122\n",
            "ok\n",
            "i4\n",
            "ok\n",
            "r4\n",
            "123\n",
            "ok\n"
          ]
        },
        {
          "output_type": "execute_result",
          "data": {
            "text/plain": [
              "99"
            ]
          },
          "metadata": {},
          "execution_count": 9
        }
      ]
    },
    {
      "cell_type": "code",
      "source": [
        "# free play\n",
        "# try to find vulnerabilities in code"
      ],
      "metadata": {
        "id": "VbsuEWHC-T9q"
      },
      "execution_count": null,
      "outputs": []
    }
  ]
}