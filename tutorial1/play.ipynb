{
  "nbformat": 4,
  "nbformat_minor": 0,
  "metadata": {
    "colab": {
      "provenance": [],
      "authorship_tag": "ABX9TyP2D42XMWx4Jooa+H23w1R8",
      "include_colab_link": true
    },
    "kernelspec": {
      "name": "python3",
      "display_name": "Python 3"
    },
    "language_info": {
      "name": "python"
    }
  },
  "cells": [
    {
      "cell_type": "markdown",
      "metadata": {
        "id": "view-in-github",
        "colab_type": "text"
      },
      "source": [
        "<a href=\"https://colab.research.google.com/github/Jubicod/wsf/blob/main/tutorial1/play.ipynb\" target=\"_parent\"><img src=\"https://colab.research.google.com/assets/colab-badge.svg\" alt=\"Open In Colab\"/></a>"
      ]
    },
    {
      "cell_type": "code",
      "execution_count": null,
      "metadata": {
        "id": "V6L60o7K7dOk"
      },
      "outputs": [],
      "source": [
        "!git clone https://github.com/Jubicod/wsf.git"
      ]
    },
    {
      "cell_type": "code",
      "source": [
        "%run wsf/tutorial1/install.ipynb"
      ],
      "metadata": {
        "id": "H8Zbt5Cg7fXF"
      },
      "execution_count": null,
      "outputs": []
    },
    {
      "cell_type": "code",
      "source": [
        "# basic stuff (status & help)\n",
        "app = App() # start the STM32 application\n",
        "app.reset()\n",
        "app.send('s') # get status. send() returns time taken to complete the command\n",
        "app.send('h') # display commands"
      ],
      "metadata": {
        "colab": {
          "base_uri": "https://localhost:8080/"
        },
        "id": "gw8skkfH7olp",
        "outputId": "be1d271a-64b4-4a10-e619-cef3ea7098ea"
      },
      "execution_count": 3,
      "outputs": [
        {
          "output_type": "stream",
          "name": "stdout",
          "text": [
            "ready...\n",
            "s\n",
            "device locked\n",
            "0  RW-L\n",
            "1  RW-L\n",
            "2  RW-L\n",
            "3  R--L\n",
            "4  R-IL\n",
            "5  RW--\n",
            "6  R---\n",
            "7  ----\n",
            "ok\n",
            "h\n",
            "Rx: read value at slot x. ex R2\n",
            "Wxvvv: write value vvv at slot x. ex W137 writes 37 into slot 1\n",
            "Ix: increment value in slot x\n",
            "Uyyyyyyyy: unlock slots. yyyyy is the password. ex U1234\n",
            "S: get status on slots\n",
            "error\n"
          ]
        },
        {
          "output_type": "execute_result",
          "data": {
            "text/plain": [
              "65"
            ]
          },
          "metadata": {},
          "execution_count": 3
        }
      ]
    },
    {
      "cell_type": "code",
      "source": [
        "# basic stuff (slots)\n",
        "app.send('w0123') # write 123 (decimal) in slot 0\n",
        "app.send('r0') # read back slot 0 (decimal)\n",
        "app.send('r4') # read slot 4\n",
        "app.send('i4') # increment slot 4\n",
        "app.send('r4') # read slot 4"
      ],
      "metadata": {
        "colab": {
          "base_uri": "https://localhost:8080/"
        },
        "id": "OuPZ-J2O8BEk",
        "outputId": "168405f3-323e-4de3-c65d-28aa5603c55d"
      },
      "execution_count": 9,
      "outputs": [
        {
          "output_type": "stream",
          "name": "stdout",
          "text": [
            "w0123\n",
            "ok\n",
            "r0\n",
            "123\n",
            "ok\n",
            "r4\n",
            "122\n",
            "ok\n",
            "i4\n",
            "ok\n",
            "r4\n",
            "123\n",
            "ok\n"
          ]
        },
        {
          "output_type": "execute_result",
          "data": {
            "text/plain": [
              "99"
            ]
          },
          "metadata": {},
          "execution_count": 9
        }
      ]
    },
    {
      "cell_type": "code",
      "source": [
        "# free play\n",
        "# try to find vulnerabilities in code"
      ],
      "metadata": {
        "id": "VbsuEWHC-T9q"
      },
      "execution_count": null,
      "outputs": []
    }
  ]
}