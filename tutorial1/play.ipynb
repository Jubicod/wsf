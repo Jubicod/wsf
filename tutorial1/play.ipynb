{
  "nbformat": 4,
  "nbformat_minor": 0,
  "metadata": {
    "colab": {
      "provenance": [],
      "authorship_tag": "ABX9TyPCgPYEUfOOeu2iFgPCTCvd",
      "include_colab_link": true
    },
    "kernelspec": {
      "name": "python3",
      "display_name": "Python 3"
    },
    "language_info": {
      "name": "python"
    }
  },
  "cells": [
    {
      "cell_type": "markdown",
      "metadata": {
        "id": "view-in-github",
        "colab_type": "text"
      },
      "source": [
        "<a href=\"https://colab.research.google.com/github/Jubicod/wsf/blob/main/tutorial1/play.ipynb\" target=\"_parent\"><img src=\"https://colab.research.google.com/assets/colab-badge.svg\" alt=\"Open In Colab\"/></a>"
      ]
    },
    {
      "cell_type": "code",
      "execution_count": null,
      "metadata": {
        "id": "V6L60o7K7dOk"
      },
      "outputs": [],
      "source": [
        "!git clone https://github.com/Jubicod/wsf.git"
      ]
    },
    {
      "cell_type": "code",
      "source": [
        "%run wsf/tutorial1/install.ipynb"
      ],
      "metadata": {
        "id": "H8Zbt5Cg7fXF"
      },
      "execution_count": null,
      "outputs": []
    },
    {
      "cell_type": "code",
      "source": [
        "# basic stuff (status & help)\n",
        "app = App() # power-on the STM32 and boot application\n",
        "app.reset() # reset CPU (slots are not reset)\n",
        "app.send('h') # display help on all commands\n",
        "print('time for s command is', app.send('s')) # get status. send() returns time taken to complete the command"
      ],
      "metadata": {
        "id": "gw8skkfH7olp"
      },
      "execution_count": null,
      "outputs": []
    },
    {
      "cell_type": "code",
      "source": [
        "# basic stuff (slots)\n",
        "app.send('w0123') # write 123 (decimal) in slot 0\n",
        "app.send('r0') # read back slot 0 (decimal)\n",
        "app.send('r4') # read slot 4\n",
        "app.send('i4') # increment slot 4\n",
        "app.send('r4') # read slot 4\n",
        "# or use more convenient functions to do the same\n",
        "app.send_read_slot(4)\n",
        "app.send_write_slot(2,44)\n",
        "app.send_increment_slot(4)"
      ],
      "metadata": {
        "id": "OuPZ-J2O8BEk"
      },
      "execution_count": null,
      "outputs": []
    },
    {
      "cell_type": "code",
      "source": [
        "# free play\n",
        "# try to find vulnerabilities in code"
      ],
      "metadata": {
        "id": "VbsuEWHC-T9q"
      },
      "execution_count": null,
      "outputs": []
    }
  ]
}